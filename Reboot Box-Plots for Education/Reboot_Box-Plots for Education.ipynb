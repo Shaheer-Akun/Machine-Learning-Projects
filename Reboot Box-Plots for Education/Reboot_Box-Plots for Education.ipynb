{
 "cells": [
  {
   "cell_type": "markdown",
   "metadata": {},
   "source": [
    "### Summary\n",
    "\n",
    "Budgets for schools and school districts are huge, complex, and unwieldy. It's no easy task to digest where and how schools are using their resources. Education Resource Strategies is a non-profit that tackles just this task with the goal of letting districts be smarter, more strategic, and more effective in their spending.\n",
    "\n",
    "Your task is a multi-class-multi-label classification problem with the goal of attaching canonical labels to the freeform text in budget line items. These labels let ERS understand how schools are spending money and tailor their strategy recommendations to improve outcomes for students, teachers, and administrators.\n",
    "\n",
    "### Problem :\n",
    "\n",
    "Goal is to predict the probability that a certain label is attached to a budget line item."
   ]
  },
  {
   "cell_type": "markdown",
   "metadata": {},
   "source": [
    "Goal is to predict the probability that a certain label is attached to a budget line item."
   ]
  },
  {
   "cell_type": "code",
   "execution_count": 1,
   "metadata": {},
   "outputs": [],
   "source": [
    "# Import Libraries\n",
    "import pandas as pd\n",
    "import numpy as np\n",
    "import matplotlib.pyplot as plt\n",
    "%matplotlib inline"
   ]
  },
  {
   "cell_type": "code",
   "execution_count": 2,
   "metadata": {},
   "outputs": [],
   "source": [
    "# Ignore deprecation warnings in scikit learn\n",
    "import warnings\n",
    "warnings.filterwarnings(\"ignore\")"
   ]
  },
  {
   "cell_type": "markdown",
   "metadata": {},
   "source": [
    "#### Load Data"
   ]
  },
  {
   "cell_type": "code",
   "execution_count": 3,
   "metadata": {},
   "outputs": [],
   "source": [
    "# Load Training Data\n",
    "budget = pd.read_csv('dataset/TrainingData.csv', index_col = 0)"
   ]
  },
  {
   "cell_type": "code",
   "execution_count": null,
   "metadata": {},
   "outputs": [],
   "source": [
    "# Names of columns\n",
    "budget.columns"
   ]
  },
  {
   "cell_type": "markdown",
   "metadata": {},
   "source": [
    "##### Exploratory Data Analysis"
   ]
  },
  {
   "cell_type": "code",
   "execution_count": null,
   "metadata": {},
   "outputs": [],
   "source": [
    "# Summary of data\n",
    "budget.info()"
   ]
  },
  {
   "cell_type": "code",
   "execution_count": null,
   "metadata": {},
   "outputs": [],
   "source": [
    "# Statistical Summary of Data\n",
    "budget.describe()"
   ]
  },
  {
   "cell_type": "code",
   "execution_count": null,
   "metadata": {
    "scrolled": true
   },
   "outputs": [],
   "source": [
    "# Count the Data types present in data\n",
    "budget.dtypes.value_counts()"
   ]
  },
  {
   "cell_type": "markdown",
   "metadata": {},
   "source": [
    "Labels are of object data type which is generic type of string in python. Working with strings is computatioanlly expensive and scikit learn works with numeric data, so, we need to convert object data type into category data type. After converting to categorical data types, labels are converted into numerical datatypes using pandas."
   ]
  },
  {
   "cell_type": "code",
   "execution_count": 4,
   "metadata": {},
   "outputs": [],
   "source": [
    "# Separating labels from other features\n",
    "labels = ['Function','Object_Type','Operating_Status','Position_Type','Pre_K', 'Reporting',\n",
    "                'Sharing','Student_Type', 'Use']\n",
    "features = [c for c in budget.columns if c not in labels]"
   ]
  },
  {
   "cell_type": "code",
   "execution_count": 5,
   "metadata": {},
   "outputs": [
    {
     "data": {
      "text/plain": [
       "Function            category\n",
       "Object_Type         category\n",
       "Operating_Status    category\n",
       "Position_Type       category\n",
       "Pre_K               category\n",
       "Reporting           category\n",
       "Sharing             category\n",
       "Student_Type        category\n",
       "Use                 category\n",
       "dtype: object"
      ]
     },
     "execution_count": 5,
     "metadata": {},
     "output_type": "execute_result"
    }
   ],
   "source": [
    "# astype method works on series but we have a subset of budget dataframe which is also a data frame \n",
    "# so use apply method and lambda\n",
    "categorize_label = lambda x: x.astype('category')\n",
    "budget[labels] = budget[labels].apply(categorize_label, axis = 0)\n",
    "budget[labels].dtypes"
   ]
  },
  {
   "cell_type": "markdown",
   "metadata": {},
   "source": [
    "Now we have 9 broad columns of labels and each column have different sub-labels. So, count the number of sub-labels in each label."
   ]
  },
  {
   "cell_type": "code",
   "execution_count": 10,
   "metadata": {},
   "outputs": [
    {
     "data": {
      "text/plain": [
       "104"
      ]
     },
     "execution_count": 10,
     "metadata": {},
     "output_type": "execute_result"
    }
   ],
   "source": [
    "# Calculate number of unique values for each label: num_unique_labels\n",
    "num_unique_labels = budget[labels].apply(pd.Series.nunique)\n",
    "num_unique_labels.sum()"
   ]
  },
  {
   "cell_type": "markdown",
   "metadata": {},
   "source": [
    "So, I have total 104 labels which are divided in 9 classes(labels)"
   ]
  },
  {
   "cell_type": "code",
   "execution_count": 11,
   "metadata": {},
   "outputs": [
    {
     "data": {
      "image/png": "[encoded data removed]",
      "text/plain": [
       "<Figure size 432x288 with 1 Axes>"
      ]
     },
     "metadata": {},
     "output_type": "display_data"
    }
   ],
   "source": [
    "# Plot number of unique values for each label\n",
    "num_unique_labels.plot(kind = 'bar')\n",
    "plt.xlabel('Labels')\n",
    "plt.ylabel('Unique values in each Label')\n",
    "plt.show()"
   ]
  },
  {
   "cell_type": "markdown",
   "metadata": {},
   "source": [
    "#### Build a simple Model using only numerical data"
   ]
  },
  {
   "cell_type": "markdown",
   "metadata": {},
   "source": [
    "Its good to start with simple model using only numerical data. We can get an idea about problem and some processing clues also."
   ]
  },
  {
   "cell_type": "code",
   "execution_count": 6,
   "metadata": {},
   "outputs": [],
   "source": [
    "Numerical_label = ['FTE', 'Total']\n",
    "numerical_data = budget[Numerical_label].fillna(-1000)\n",
    "labels_to_use = pd.get_dummies(budget[labels])\n",
    "# note first converted labels from string to category and now from category to binary(numerical form)"
   ]
  },
  {
   "cell_type": "markdown",
   "metadata": {},
   "source": [
    "###### Split Data "
   ]
  },
  {
   "cell_type": "code",
   "execution_count": 12,
   "metadata": {},
   "outputs": [
    {
     "name": "stdout",
     "output_type": "stream",
     "text": [
      "X_train info:\n",
      "<class 'pandas.core.frame.DataFrame'>\n",
      "Int64Index: 320222 entries, 134338 to 415831\n",
      "Data columns (total 2 columns):\n",
      "FTE      320222 non-null float64\n",
      "Total    320222 non-null float64\n",
      "dtypes: float64(2)\n",
      "memory usage: 7.3 MB\n",
      "None\n",
      "\n",
      "X_test info:\n",
      "<class 'pandas.core.frame.DataFrame'>\n",
      "Int64Index: 80055 entries, 206341 to 413949\n",
      "Data columns (total 2 columns):\n",
      "FTE      80055 non-null float64\n",
      "Total    80055 non-null float64\n",
      "dtypes: float64(2)\n",
      "memory usage: 1.8 MB\n",
      "None\n",
      "\n",
      "y_train info:\n",
      "<class 'pandas.core.frame.DataFrame'>\n",
      "Int64Index: 320222 entries, 134338 to 415831\n",
      "Columns: 104 entries, Function_Aides Compensation to Use_Untracked Budget Set-Aside\n",
      "dtypes: uint8(104)\n",
      "memory usage: 34.2 MB\n",
      "None\n",
      "\n",
      "y_test info:\n",
      "<class 'pandas.core.frame.DataFrame'>\n",
      "Int64Index: 80055 entries, 206341 to 413949\n",
      "Columns: 104 entries, Function_Aides Compensation to Use_Untracked Budget Set-Aside\n",
      "dtypes: uint8(104)\n",
      "memory usage: 8.6 MB\n",
      "None\n"
     ]
    }
   ],
   "source": [
    "from sklearn.model_selection import train_test_split\n",
    "from sklearn.linear_model import LogisticRegression\n",
    "from sklearn.multiclass import OneVsRestClassifier\n",
    "import Multilabel_train_test_split as mlt\n",
    "\n",
    "# Split and select numeric data only, no nans \n",
    "X_train, X_test, y_train, y_test = mlt.multilabel_train_test_split(numerical_data, labels_to_use, size = 0.2, seed = 123)\n",
    "\n",
    "# Print the info\n",
    "print(\"X_train info:\")\n",
    "print(X_train.info())\n",
    "print(\"\\nX_test info:\")  \n",
    "print(X_test.info())\n",
    "print(\"\\ny_train info:\")  \n",
    "print(y_train.info())\n",
    "print(\"\\ny_test info:\")  \n",
    "print(y_test.info()) "
   ]
  },
  {
   "cell_type": "markdown",
   "metadata": {},
   "source": [
    "###### Train the classifier using training data"
   ]
  },
  {
   "cell_type": "code",
   "execution_count": null,
   "metadata": {},
   "outputs": [],
   "source": [
    "%%time\n",
    "\n",
    "# Instantiate the classifier: clf\n",
    "clf = OneVsRestClassifier(LogisticRegression())\n",
    "\n",
    "# Fit the classifier to the training data\n",
    "clf.fit(X_train, y_train)\n",
    "\n",
    "# Print the accuracy\n",
    "print(\"Accuracy: {}\".format(clf.score(X_test, y_test)))"
   ]
  },
  {
   "cell_type": "markdown",
   "metadata": {},
   "source": [
    "Accuracy is zero but most of the data is not used yet."
   ]
  },
  {
   "cell_type": "markdown",
   "metadata": {},
   "source": [
    "The above model is a very basic model and I used only numeric data which constitutes two columns out of 16 features columns. The 14 features columns are text based, and those columns need to be processed before feeding into the scikit learn classifier. Here, comes the NLP(Natural Language Processing) in picture."
   ]
  },
  {
   "cell_type": "markdown",
   "metadata": {},
   "source": [
    "#### Representing text numerically"
   ]
  },
  {
   "cell_type": "markdown",
   "metadata": {},
   "source": [
    "##### 1. Bag - of - words"
   ]
  },
  {
   "cell_type": "markdown",
   "metadata": {},
   "source": [
    "Bag of words is a simple method to represent text in machine learning. It tokenize the string/document and computes word count or frequency of words in the string/document. Bag of words doesn't care about the grammer and order of words. "
   ]
  },
  {
   "cell_type": "markdown",
   "metadata": {},
   "source": [
    "#### 2. CountVectorizer()"
   ]
  },
  {
   "cell_type": "markdown",
   "metadata": {},
   "source": [
    "This is a Scikit Learn tool to tokenize text data. It performs three main actions.\n",
    "1. It takes a string and tokenize it according to a given string pattern.\n",
    "2. It build a vocabulary out of the words taken from the string.\n",
    "3. It computes the word count of each word in the string.\n",
    "But CountVectorizer() takes only a single string per row.\n",
    "Data has 14 features columns that are text based.\n",
    "To use CountVectorizer(), I need to combine the text of 14 columns in a string per row."
   ]
  },
  {
   "cell_type": "code",
   "execution_count": 13,
   "metadata": {},
   "outputs": [],
   "source": [
    "# Combine Text columns for Tokenization\n",
    "def combine_text_column(df, to_drop = Numerical_label + labels):\n",
    "    \"\"\" converts text in each row of df to single vector \"\"\"\n",
    "    \n",
    "    # Drop non-text columns that are in the df\n",
    "    to_drop = set(to_drop) & set(df.columns.tolist())\n",
    "    text_data = df.drop(to_drop, axis = 1)\n",
    "    \n",
    "    # Replace nans with blanks\n",
    "    text_data.fillna('', inplace = True)\n",
    "    \n",
    "    # Join all text items in a row that have a space in between\n",
    "    return text_data.apply(lambda x: \" \".join(x), axis=1)\n",
    "    "
   ]
  },
  {
   "cell_type": "code",
   "execution_count": 14,
   "metadata": {},
   "outputs": [],
   "source": [
    "from sklearn.preprocessing import FunctionTransformer\n",
    "from sklearn.pipeline import Pipeline, FeatureUnion\n",
    "from sklearn.preprocessing import Imputer\n",
    "from sklearn.feature_extraction.text import CountVectorizer\n",
    "from sklearn.multiclass import OneVsRestClassifier\n",
    "from sklearn.linear_model import LogisticRegression\n",
    "from sklearn.ensemble import RandomForestClassifier\n",
    "from metrics import multi_multi_log_loss\n",
    "from sklearn.metrics.scorer import make_scorer\n",
    "\n",
    "log_loss_scorer = make_scorer(multi_multi_log_loss)"
   ]
  },
  {
   "cell_type": "code",
   "execution_count": 15,
   "metadata": {},
   "outputs": [],
   "source": [
    "#Split data and make different pipelines for numerical as well as text pipeline\n",
    "\n",
    "get_text_data = FunctionTransformer(combine_text_column, validate = False)\n",
    "\n",
    "get_numerical_data = FunctionTransformer(lambda x: x[Numerical_label], validate = False)\n",
    "\n",
    "# pipeline for FeatureUnion\n",
    "numeric_pipeline = Pipeline([('selector',get_numerical_data),\n",
    "                             ('imputer', Imputer())\n",
    "                            ])\n",
    "text_pipeline = Pipeline([('selector', get_text_data),\n",
    "                          ('vec',CountVectorizer())\n",
    "                         ])\n",
    "\n",
    "union = FeatureUnion([('numeric',numeric_pipeline),\n",
    "                      ('text', text_pipeline)\n",
    "                     ])\n"
   ]
  },
  {
   "cell_type": "code",
   "execution_count": null,
   "metadata": {},
   "outputs": [],
   "source": [
    "# train logistic classifier\n",
    "\n",
    "# Main pipeline to combine all pipelines\n",
    "\n",
    "\n",
    "pl = Pipeline([('union', FeatureUnion([\n",
    "                    ('numeric', numeric_pipeline),\n",
    "                    ('text', text_pipeline)\n",
    "                ])),\n",
    "               ('clf', OneVsRestClassifier(LogisticRegression()))\n",
    "              ])\n",
    "        \n",
    "pl.fit(X_train, y_train)\n",
    "\n",
    "logistic_score = log_loss_scorer(pl, X_test, y_test.values)\n",
    "logistic_score"
   ]
  },
  {
   "cell_type": "code",
   "execution_count": 21,
   "metadata": {},
   "outputs": [],
   "source": [
    "# make predictions on hold out data and save in a file\n",
    "hold_out = pd.read_csv('dataset/TestData.csv', index_col = 0)\n",
    "predictions = pl.predict_proba(hold_out)\n",
    "prediction_df = pd.DataFrame(columns = pd.get_dummies(budget[labels], prefix_sep = '__').columns, index = hold_out.index,\n",
    "                             data = predictions)\n",
    "prediction_df.to_csv('predictions_logistic.csv')\n"
   ]
  },
  {
   "cell_type": "code",
   "execution_count": 16,
   "metadata": {},
   "outputs": [
    {
     "data": {
      "text/plain": [
       "Pipeline(memory=None,\n",
       "     steps=[('union', FeatureUnion(n_jobs=1,\n",
       "       transformer_list=[('numeric', Pipeline(memory=None,\n",
       "     steps=[('selector', FunctionTransformer(accept_sparse=False,\n",
       "          func=<function <lambda> at 0x000000F0044F9D90>, inv_kw_args=None,\n",
       "          inverse_func=None, kw_args=None, pass_y='deprecat... oob_score=False, random_state=None, verbose=0,\n",
       "            warm_start=False),\n",
       "          n_jobs=1))])"
      ]
     },
     "execution_count": 16,
     "metadata": {},
     "output_type": "execute_result"
    }
   ],
   "source": [
    "# Train data using different classifier i.e. RandomForestClassifier\n",
    "\n",
    "# %%time\n",
    "\n",
    "pl_1 = Pipeline([('union', FeatureUnion([\n",
    "                    ('numeric', numeric_pipeline),\n",
    "                    ('text', text_pipeline)\n",
    "                ])),\n",
    "               ('clf', OneVsRestClassifier(RandomForestClassifier()))\n",
    "              ])\n",
    "        \n",
    "pl_1.fit(X_train, y_train)"
   ]
  },
  {
   "cell_type": "code",
   "execution_count": 17,
   "metadata": {},
   "outputs": [
    {
     "data": {
      "text/plain": [
       "0.594186126780781"
      ]
     },
     "execution_count": 17,
     "metadata": {},
     "output_type": "execute_result"
    }
   ],
   "source": [
    "random_classifier_10_score = log_loss_scorer(pl_1, X_test, y_test.values)\n",
    "random_classifier_10_score"
   ]
  },
  {
   "cell_type": "markdown",
   "metadata": {},
   "source": [
    "#### Make Predictions using hold out data"
   ]
  },
  {
   "cell_type": "code",
   "execution_count": 18,
   "metadata": {},
   "outputs": [],
   "source": [
    "hold_out = pd.read_csv('dataset/TestData.csv', index_col = 0)\n",
    "\n",
    "predictions = pl_1.predict_proba(hold_out)\n",
    "\n",
    "prediction_df = pd.DataFrame(columns = pd.get_dummies(budget[labels], prefix_sep = '__').columns, index = hold_out.index,\n",
    "                             data = predictions)\n",
    "prediction_df.to_csv('randomclassifier10.csv')"
   ]
  }
 ],
 "metadata": {
  "kernelspec": {
   "display_name": "Python 3",
   "language": "python",
   "name": "python3"
  },
  "language_info": {
   "codemirror_mode": {
    "name": "ipython",
    "version": 3
   },
   "file_extension": ".py",
   "mimetype": "text/x-python",
   "name": "python",
   "nbconvert_exporter": "python",
   "pygments_lexer": "ipython3",
   "version": "3.6.5"
  }
 },
 "nbformat": 4,
 "nbformat_minor": 2
}
