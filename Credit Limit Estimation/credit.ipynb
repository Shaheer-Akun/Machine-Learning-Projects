{
 "cells": [
  {
   "cell_type": "markdown",
   "metadata": {
    "colab_type": "text",
    "id": "QldXWSH2KVq4"
   },
   "source": [
    "**Problem Statement:** ABC Company provides instant credit loan to customers afetr analysing customer's application data. Company wants to automate this process. Task consists of two parts:\n",
    "1. To classify if company should approve or reject customer's loan.\n",
    "2. If loan get approved, then how much credit loan company can provide to customer so that risk of loss is minimum.\n",
    "\n",
    "**Brief Idea of Solution:** \n",
    "\n",
    "Credit limit can be calculated on the basis of **credit score** which is a 3 digit number caluclated on the basis of many features. In current dataset **Portfolio_type** and **Asset Class cd** are two important features to generate credit score and so credit limit. Approval of credit loan is a **supervised binary classification**\n",
    "\n",
    "**Asset_class_cd**\n",
    "    how many days a payment on that account is late by that month. Anything but “000” or “STD” is considered negative by the lender\n",
    "1. standard - payment made within 90 days\n",
    "2. Sub-standard - payment made after 90 days\n",
    "3. Doubtful - The account has remained Sub-Standard for 12 months\n",
    "4. Loss (LSS): An account where loss has been identified and remains uncollectible\n",
    "5. Default: No Days Late (**Assumption for the task**)\n",
    "6. Special Mention Account: Account moving from standard to sub standard\n",
    "\n",
    "**Portfolio_type:** \n",
    "1. Installment credit is considered less dangerous to your credit score than revolving credit.\n",
    "2. Having a mortgage will also help your credit score because it increases the mix of credit you use. However, it's only 10 percent of your score and it typically won't have much of an impact unless you don't have much other credit history.**\n",
    "\n",
    "**inquiry_purporse_code**\n",
    "1. No of enquiries effect the credit score so need to check if inquiry_purporse_code will serve the purpose\n",
    "Can be classified as secured and unsecured account type based on the type\n",
    "1. Secured account type can have high credit score and therfore more credit limit\n",
    "examples - secured credit such as home loans, car loans, secured credit cards, mortages, auto loans, car loan\n",
    "\n",
    "2. Unsecured account type can have low credit score and therefore less credit limit\n",
    "\n",
    "**Asset Code**\n",
    "1. Joint can improve credit score over a period of time if joint holder having good credits score\n",
    "2. authorized user can improve credit score\n",
    "3. Guarantor can improve credit score\n",
    "4. Deceased can decerease credit score\n",
    "\n",
    "**Assumption about Target variable**\n",
    "1.   Assumption: Approved 0 means Loan approved\n",
    "2.   Approved 1 means loan rejected"
   ]
  },
  {
   "cell_type": "code",
   "execution_count": 1,
   "metadata": {
    "colab": {
     "base_uri": "https://localhost:8080/",
     "height": 124
    },
    "colab_type": "code",
    "id": "lMUi43fFPhk4",
    "outputId": "bcf01365-e248-40d8-ac11-2d05c34bf28a"
   },
   "outputs": [
    {
     "name": "stdout",
     "output_type": "stream",
     "text": [
      "Go to this URL in a browser: https://accounts.google.com/o/oauth2/auth?client_id=947318989803-6bn6qk8qdgf4n4g3pfee6491hc0brc4i.apps.googleusercontent.com&redirect_uri=urn%3aietf%3awg%3aoauth%3a2.0%3aoob&response_type=code&scope=email%20https%3a%2f%2fwww.googleapis.com%2fauth%2fdocs.test%20https%3a%2f%2fwww.googleapis.com%2fauth%2fdrive%20https%3a%2f%2fwww.googleapis.com%2fauth%2fdrive.photos.readonly%20https%3a%2f%2fwww.googleapis.com%2fauth%2fpeopleapi.readonly\n",
      "\n",
      "Enter your authorization code:\n",
      "··········\n",
      "Mounted at /content/drive\n"
     ]
    }
   ],
   "source": [
    "from google.colab import drive\n",
    "drive.mount('/content/drive')"
   ]
  },
  {
   "cell_type": "code",
   "execution_count": 2,
   "metadata": {
    "colab": {
     "base_uri": "https://localhost:8080/",
     "height": 72
    },
    "colab_type": "code",
    "id": "RPS_U0lDUp_N",
    "outputId": "c78e3cb0-6299-4a0e-909c-572a15edca7a"
   },
   "outputs": [
    {
     "name": "stderr",
     "output_type": "stream",
     "text": [
      "/usr/local/lib/python3.6/dist-packages/statsmodels/tools/_testing.py:19: FutureWarning: pandas.util.testing is deprecated. Use the functions in the public API at pandas.testing instead.\n",
      "  import pandas.util.testing as tm\n"
     ]
    }
   ],
   "source": [
    "# load required libraries\n",
    "import pandas as pd\n",
    "import numpy as np\n",
    "pd.set_option('display.max_columns', None)\n",
    "pd.set_option(\"max_rows\", None)\n",
    "import seaborn as sns\n",
    "import matplotlib.pyplot as plt\n",
    "from datetime import date\n",
    "import warnings\n",
    "warnings.filterwarnings(\"ignore\")\n",
    "# plt.rcParams[\"figure.figsize\"] = (10, 6)\n",
    "# plt.rcParams[\"xtick.labelsize\"] = 10"
   ]
  },
  {
   "cell_type": "code",
   "execution_count": 3,
   "metadata": {
    "colab": {
     "base_uri": "https://localhost:8080/",
     "height": 347
    },
    "colab_type": "code",
    "id": "GBCvMWeIUwNM",
    "outputId": "2aa656dd-6a1c-4569-f3c9-8af813a9ebab"
   },
   "outputs": [
    {
     "data": {
      "text/html": [
       "<div>\n",
       "<style scoped>\n",
       "    .dataframe tbody tr th:only-of-type {\n",
       "        vertical-align: middle;\n",
       "    }\n",
       "\n",
       "    .dataframe tbody tr th {\n",
       "        vertical-align: top;\n",
       "    }\n",
       "\n",
       "    .dataframe thead th {\n",
       "        text-align: right;\n",
       "    }\n",
       "</style>\n",
       "<table border=\"1\" class=\"dataframe\">\n",
       "  <thead>\n",
       "    <tr style=\"text-align: right;\">\n",
       "      <th></th>\n",
       "      <th>gender</th>\n",
       "      <th>date_of_birth</th>\n",
       "      <th>workclass</th>\n",
       "      <th>education_level</th>\n",
       "      <th>education_num</th>\n",
       "      <th>marital_status</th>\n",
       "      <th>occupation</th>\n",
       "      <th>relationship</th>\n",
       "      <th>capital_gain</th>\n",
       "      <th>capital_loss</th>\n",
       "      <th>hours_per_week</th>\n",
       "      <th>approved</th>\n",
       "      <th>address</th>\n",
       "      <th>email</th>\n",
       "      <th>inquiry_purpose_code</th>\n",
       "      <th>institute_type</th>\n",
       "      <th>account_type</th>\n",
       "      <th>asset_class_cd</th>\n",
       "      <th>asset_code</th>\n",
       "      <th>portfolio_type</th>\n",
       "    </tr>\n",
       "    <tr>\n",
       "      <th>user_id</th>\n",
       "      <th></th>\n",
       "      <th></th>\n",
       "      <th></th>\n",
       "      <th></th>\n",
       "      <th></th>\n",
       "      <th></th>\n",
       "      <th></th>\n",
       "      <th></th>\n",
       "      <th></th>\n",
       "      <th></th>\n",
       "      <th></th>\n",
       "      <th></th>\n",
       "      <th></th>\n",
       "      <th></th>\n",
       "      <th></th>\n",
       "      <th></th>\n",
       "      <th></th>\n",
       "      <th></th>\n",
       "      <th></th>\n",
       "      <th></th>\n",
       "    </tr>\n",
       "  </thead>\n",
       "  <tbody>\n",
       "    <tr>\n",
       "      <th>307c73a3-0c67-43b5-b0d1-62ad5f00b52a</th>\n",
       "      <td>Female</td>\n",
       "      <td>1987-01-03</td>\n",
       "      <td>Private</td>\n",
       "      <td>11th</td>\n",
       "      <td>7.0</td>\n",
       "      <td>Never-married</td>\n",
       "      <td>Sales</td>\n",
       "      <td>Unmarried</td>\n",
       "      <td>0.0</td>\n",
       "      <td>0.0</td>\n",
       "      <td>17.0</td>\n",
       "      <td>0</td>\n",
       "      <td>45424 Norris Common Apt. 390\\nNorth Mike, AR 8...</td>\n",
       "      <td>vasquezleah@yahoo.com</td>\n",
       "      <td>7.0</td>\n",
       "      <td>PVT</td>\n",
       "      <td>5</td>\n",
       "      <td>NaN</td>\n",
       "      <td>1.0</td>\n",
       "      <td>R</td>\n",
       "    </tr>\n",
       "    <tr>\n",
       "      <th>519481f1-604d-48b6-aa47-4123a982431a</th>\n",
       "      <td>Male</td>\n",
       "      <td>1970-01-07</td>\n",
       "      <td>Self-emp-not-inc</td>\n",
       "      <td>Some-college</td>\n",
       "      <td>10.0</td>\n",
       "      <td>Married-civ-spouse</td>\n",
       "      <td>Craft-repair</td>\n",
       "      <td>Husband</td>\n",
       "      <td>0.0</td>\n",
       "      <td>0.0</td>\n",
       "      <td>48.0</td>\n",
       "      <td>0</td>\n",
       "      <td>5022 Rebecca Haven Apt. 258\\nThompsonfurt, CT ...</td>\n",
       "      <td>johnsontrevor@hotmail.com</td>\n",
       "      <td>13.0</td>\n",
       "      <td>NBF</td>\n",
       "      <td>5</td>\n",
       "      <td>NaN</td>\n",
       "      <td>1.0</td>\n",
       "      <td>R</td>\n",
       "    </tr>\n",
       "    <tr>\n",
       "      <th>f66fe2c6-53e3-46ce-8321-e530b4af1ace</th>\n",
       "      <td>Male</td>\n",
       "      <td>1973-01-06</td>\n",
       "      <td>Private</td>\n",
       "      <td>HS-grad</td>\n",
       "      <td>9.0</td>\n",
       "      <td>Divorced</td>\n",
       "      <td>Sales</td>\n",
       "      <td>Not-in-family</td>\n",
       "      <td>0.0</td>\n",
       "      <td>0.0</td>\n",
       "      <td>50.0</td>\n",
       "      <td>0</td>\n",
       "      <td>8780 Brown Loaf Apt. 099\\nNorth David, NJ 56510</td>\n",
       "      <td>morganemily@gmail.com</td>\n",
       "      <td>13.0</td>\n",
       "      <td>NBF</td>\n",
       "      <td>5</td>\n",
       "      <td>NaN</td>\n",
       "      <td>1.0</td>\n",
       "      <td>R</td>\n",
       "    </tr>\n",
       "  </tbody>\n",
       "</table>\n",
       "</div>"
      ],
      "text/plain": [
       "                                       gender date_of_birth  \\\n",
       "user_id                                                       \n",
       "307c73a3-0c67-43b5-b0d1-62ad5f00b52a   Female    1987-01-03   \n",
       "519481f1-604d-48b6-aa47-4123a982431a     Male    1970-01-07   \n",
       "f66fe2c6-53e3-46ce-8321-e530b4af1ace     Male    1973-01-06   \n",
       "\n",
       "                                              workclass education_level  \\\n",
       "user_id                                                                   \n",
       "307c73a3-0c67-43b5-b0d1-62ad5f00b52a            Private            11th   \n",
       "519481f1-604d-48b6-aa47-4123a982431a   Self-emp-not-inc    Some-college   \n",
       "f66fe2c6-53e3-46ce-8321-e530b4af1ace            Private         HS-grad   \n",
       "\n",
       "                                      education_num       marital_status  \\\n",
       "user_id                                                                    \n",
       "307c73a3-0c67-43b5-b0d1-62ad5f00b52a            7.0        Never-married   \n",
       "519481f1-604d-48b6-aa47-4123a982431a           10.0   Married-civ-spouse   \n",
       "f66fe2c6-53e3-46ce-8321-e530b4af1ace            9.0             Divorced   \n",
       "\n",
       "                                         occupation    relationship  \\\n",
       "user_id                                                               \n",
       "307c73a3-0c67-43b5-b0d1-62ad5f00b52a          Sales       Unmarried   \n",
       "519481f1-604d-48b6-aa47-4123a982431a   Craft-repair         Husband   \n",
       "f66fe2c6-53e3-46ce-8321-e530b4af1ace          Sales   Not-in-family   \n",
       "\n",
       "                                      capital_gain  capital_loss  \\\n",
       "user_id                                                            \n",
       "307c73a3-0c67-43b5-b0d1-62ad5f00b52a           0.0           0.0   \n",
       "519481f1-604d-48b6-aa47-4123a982431a           0.0           0.0   \n",
       "f66fe2c6-53e3-46ce-8321-e530b4af1ace           0.0           0.0   \n",
       "\n",
       "                                      hours_per_week  approved  \\\n",
       "user_id                                                          \n",
       "307c73a3-0c67-43b5-b0d1-62ad5f00b52a            17.0         0   \n",
       "519481f1-604d-48b6-aa47-4123a982431a            48.0         0   \n",
       "f66fe2c6-53e3-46ce-8321-e530b4af1ace            50.0         0   \n",
       "\n",
       "                                                                                address  \\\n",
       "user_id                                                                                   \n",
       "307c73a3-0c67-43b5-b0d1-62ad5f00b52a  45424 Norris Common Apt. 390\\nNorth Mike, AR 8...   \n",
       "519481f1-604d-48b6-aa47-4123a982431a  5022 Rebecca Haven Apt. 258\\nThompsonfurt, CT ...   \n",
       "f66fe2c6-53e3-46ce-8321-e530b4af1ace    8780 Brown Loaf Apt. 099\\nNorth David, NJ 56510   \n",
       "\n",
       "                                                          email  \\\n",
       "user_id                                                           \n",
       "307c73a3-0c67-43b5-b0d1-62ad5f00b52a      vasquezleah@yahoo.com   \n",
       "519481f1-604d-48b6-aa47-4123a982431a  johnsontrevor@hotmail.com   \n",
       "f66fe2c6-53e3-46ce-8321-e530b4af1ace      morganemily@gmail.com   \n",
       "\n",
       "                                      inquiry_purpose_code institute_type  \\\n",
       "user_id                                                                     \n",
       "307c73a3-0c67-43b5-b0d1-62ad5f00b52a                   7.0            PVT   \n",
       "519481f1-604d-48b6-aa47-4123a982431a                  13.0            NBF   \n",
       "f66fe2c6-53e3-46ce-8321-e530b4af1ace                  13.0            NBF   \n",
       "\n",
       "                                      account_type asset_class_cd  asset_code  \\\n",
       "user_id                                                                         \n",
       "307c73a3-0c67-43b5-b0d1-62ad5f00b52a             5            NaN         1.0   \n",
       "519481f1-604d-48b6-aa47-4123a982431a             5            NaN         1.0   \n",
       "f66fe2c6-53e3-46ce-8321-e530b4af1ace             5            NaN         1.0   \n",
       "\n",
       "                                     portfolio_type  \n",
       "user_id                                              \n",
       "307c73a3-0c67-43b5-b0d1-62ad5f00b52a              R  \n",
       "519481f1-604d-48b6-aa47-4123a982431a              R  \n",
       "f66fe2c6-53e3-46ce-8321-e530b4af1ace              R  "
      ]
     },
     "execution_count": 3,
     "metadata": {
      "tags": []
     },
     "output_type": "execute_result"
    }
   ],
   "source": [
    "# read data \n",
    "def read_data(path):\n",
    "  data = pd.read_csv(path, index_col=0)\n",
    "  return data\n",
    "\n",
    "complete_data = read_data(r\"/content/drive/My Drive/Simpl/simpl_payments_bank_digicard_v1.0.csv\")\n",
    "# Keep a copy of original data\n",
    "original = complete_data\n",
    "\n",
    "complete_data.head(3)"
   ]
  },
  {
   "cell_type": "code",
   "execution_count": 4,
   "metadata": {
    "colab": {
     "base_uri": "https://localhost:8080/",
     "height": 52
    },
    "colab_type": "code",
    "id": "cHf7bWs6BTVS",
    "outputId": "5eb0be58-550c-4e88-86af-f090e60b0bd1"
   },
   "outputs": [
    {
     "name": "stdout",
     "output_type": "stream",
     "text": [
      "(45222, 20)\n"
     ]
    },
    {
     "data": {
      "text/plain": [
       "(45222, 20)"
      ]
     },
     "execution_count": 4,
     "metadata": {
      "tags": []
     },
     "output_type": "execute_result"
    }
   ],
   "source": [
    "# check for duplicate data points \n",
    "\n",
    "print(complete_data.shape)\n",
    "\n",
    "# Dropping the duplicate Rows\n",
    "complete_data = complete_data.drop_duplicates(keep = 'first')\n",
    "complete_data.shape\n"
   ]
  },
  {
   "cell_type": "code",
   "execution_count": 5,
   "metadata": {
    "colab": {
     "base_uri": "https://localhost:8080/",
     "height": 849
    },
    "colab_type": "code",
    "id": "-boxXQ3KVKrj",
    "outputId": "0906aa1a-45be-43f2-bdb2-ea29c0f1fbce"
   },
   "outputs": [
    {
     "name": "stdout",
     "output_type": "stream",
     "text": [
      "================================================================================\n",
      "<class 'pandas.core.frame.DataFrame'>\n",
      "Index: 45222 entries, 307c73a3-0c67-43b5-b0d1-62ad5f00b52a to 82eab6e5-57ab-4fd7-8923-e7790390c473\n",
      "Data columns (total 20 columns):\n",
      " #   Column                Non-Null Count  Dtype  \n",
      "---  ------                --------------  -----  \n",
      " 0   gender                45222 non-null  object \n",
      " 1   date_of_birth         45222 non-null  object \n",
      " 2   workclass             45222 non-null  object \n",
      " 3   education_level       45222 non-null  object \n",
      " 4   education_num         45222 non-null  float64\n",
      " 5   marital_status        45222 non-null  object \n",
      " 6   occupation            45222 non-null  object \n",
      " 7   relationship          45222 non-null  object \n",
      " 8   capital_gain          45222 non-null  float64\n",
      " 9   capital_loss          45222 non-null  float64\n",
      " 10  hours_per_week        45222 non-null  float64\n",
      " 11  approved              45222 non-null  int64  \n",
      " 12  address               45222 non-null  object \n",
      " 13  email                 45222 non-null  object \n",
      " 14  inquiry_purpose_code  43931 non-null  float64\n",
      " 15  institute_type        45222 non-null  object \n",
      " 16  account_type          45222 non-null  int64  \n",
      " 17  asset_class_cd        9492 non-null   object \n",
      " 18  asset_code            45140 non-null  float64\n",
      " 19  portfolio_type        45216 non-null  object \n",
      "dtypes: float64(6), int64(2), object(12)\n",
      "memory usage: 7.2+ MB\n",
      "\n",
      "summary of dataset:         education_num  capital_gain  capital_loss  hours_per_week  \\\n",
      "count   45222.000000  45222.000000  45222.000000    45222.000000   \n",
      "mean       10.118460   1101.430344     88.595418       40.938017   \n",
      "std         2.552881   7506.430084    404.956092       12.007508   \n",
      "min         1.000000      0.000000      0.000000        1.000000   \n",
      "25%         9.000000      0.000000      0.000000       40.000000   \n",
      "50%        10.000000      0.000000      0.000000       40.000000   \n",
      "75%        13.000000      0.000000      0.000000       45.000000   \n",
      "max        16.000000  99999.000000   4356.000000       99.000000   \n",
      "\n",
      "           approved  inquiry_purpose_code  account_type    asset_code  \n",
      "count  45222.000000          43931.000000  45222.000000  45140.000000  \n",
      "mean       0.247844             28.936560     79.807019      1.063735  \n",
      "std        0.431766             35.393095    143.951963      0.711637  \n",
      "min        0.000000              1.000000      5.000000      1.000000  \n",
      "25%        0.000000             13.000000      5.000000      1.000000  \n",
      "50%        0.000000             13.000000      5.000000      1.000000  \n",
      "75%        0.000000             16.000000    173.000000      1.000000  \n",
      "max        1.000000             99.000000    999.000000     19.000000  \n"
     ]
    }
   ],
   "source": [
    "# Basic Summary of dataset\n",
    "def summary_dataset(df):\n",
    "    summary = df.describe()\n",
    "    print('='*80)\n",
    "    data_info = df.info()\n",
    "    return (summary,data_info)\n",
    "\n",
    "summary,data_info = summary_dataset(complete_data)\n",
    "print(\"\\nsummary of dataset: \", summary)"
   ]
  },
  {
   "cell_type": "markdown",
   "metadata": {
    "colab_type": "text",
    "id": "TSejFlsnSY4q"
   },
   "source": [
    "**There are total 45222 data points and 20 columns. The taregt variable approved defines if customer was approved for credit loan or not based on features privided. Missing values can be present in inquiry_purpose_code, asset_class_cd, asset_code, portfolio_type. Need to check**"
   ]
  },
  {
   "cell_type": "code",
   "execution_count": 0,
   "metadata": {
    "colab": {},
    "colab_type": "code",
    "id": "4VvuuOQh_13x"
   },
   "outputs": [],
   "source": [
    "# Stratified Sampling using Scikit-learn's StratifiedShuffleSplit Class\n",
    "\n",
    "# Split in starting\n",
    "\n",
    "from sklearn.model_selection import StratifiedShuffleSplit\n",
    "\n",
    "split = StratifiedShuffleSplit(n_splits=1, test_size=0.2, random_state=42)\n",
    "for train_index, test_index in split.split(complete_data, complete_data[\"approved\"]):\n",
    "    strat_train_set = complete_data.iloc[train_index]\n",
    "    strat_test_set = complete_data.iloc[test_index]"
   ]
  },
  {
   "cell_type": "markdown",
   "metadata": {
    "colab_type": "text",
    "id": "0Xn7Oe_PB8-u"
   },
   "source": [
    "**check If training and testing data have equal proportion of target class to avoid model being biased towards one class**"
   ]
  },
  {
   "cell_type": "code",
   "execution_count": 7,
   "metadata": {
    "colab": {
     "base_uri": "https://localhost:8080/",
     "height": 69
    },
    "colab_type": "code",
    "id": "LVMKxrbZBUzO",
    "outputId": "a3da38f7-fee9-4e6e-afbd-410bab794a96"
   },
   "outputs": [
    {
     "data": {
      "text/plain": [
       "0    0.752128\n",
       "1    0.247872\n",
       "Name: approved, dtype: float64"
      ]
     },
     "execution_count": 7,
     "metadata": {
      "tags": []
     },
     "output_type": "execute_result"
    }
   ],
   "source": [
    "# approved category proportion in test set generated with stratified sampling\n",
    "strat_test_set[\"approved\"].value_counts() / len(strat_test_set)"
   ]
  },
  {
   "cell_type": "code",
   "execution_count": 8,
   "metadata": {
    "colab": {
     "base_uri": "https://localhost:8080/",
     "height": 69
    },
    "colab_type": "code",
    "id": "GKzsBVFUBcLo",
    "outputId": "ca775aed-54bb-4e49-da48-ff8f83621fbd"
   },
   "outputs": [
    {
     "data": {
      "text/plain": [
       "0    0.752156\n",
       "1    0.247844\n",
       "Name: approved, dtype: float64"
      ]
     },
     "execution_count": 8,
     "metadata": {
      "tags": []
     },
     "output_type": "execute_result"
    }
   ],
   "source": [
    "# approved category proportion in full dataset\n",
    "\n",
    "complete_data[\"approved\"].value_counts() / len(complete_data)"
   ]
  },
  {
   "cell_type": "markdown",
   "metadata": {
    "colab_type": "text",
    "id": "bdCEQpu5Cmkb"
   },
   "source": [
    "**Exploratory data Analysis**"
   ]
  },
  {
   "cell_type": "markdown",
   "metadata": {
    "colab_type": "text",
    "id": "Gs6W_lFQJL0K"
   },
   "source": [
    "**Custom function for Categorical Variable Analysis**"
   ]
  },
  {
   "cell_type": "code",
   "execution_count": 0,
   "metadata": {
    "colab": {},
    "colab_type": "code",
    "id": "8B6PNC8ab34r"
   },
   "outputs": [],
   "source": [
    "def categorical_summarized(dataframe, x=None, y=None, hue=None, palette='Set1', verbose=True):\n",
    "    '''\n",
    "    Helper function that gives a quick summary of a given column of categorical data\n",
    "\n",
    "    Arguments\n",
    "    =========\n",
    "    dataframe: pandas dataframe\n",
    "    x: str. horizontal axis to plot the labels of categorical data, y would be the count\n",
    "    y: str. vertical axis to plot the labels of categorical data, x would be the count\n",
    "    hue: str. if you want to compare it another variable (usually the target variable)\n",
    "    palette: array-like. Colour of the plot\n",
    "\n",
    "    Returns\n",
    "    =======\n",
    "    Quick Stats of the data and also the count plot\n",
    "    '''\n",
    "    \n",
    "    if x == None:\n",
    "        column_interested = y\n",
    "    else:\n",
    "        column_interested = x\n",
    "    series = dataframe[column_interested]\n",
    "    print(series.describe())\n",
    "    print('='*80)\n",
    "    print(\"Unique Values including NaN:\",series.nunique())\n",
    "    print('='*80)\n",
    "    print('mode: ', series.mode())\n",
    "    if verbose:\n",
    "        print('='*80)\n",
    "        print(series.value_counts())\n",
    "    sns.countplot(x=x, y=y, hue=hue, data=dataframe, palette=palette)\n",
    "    plt.show()"
   ]
  },
  {
   "cell_type": "code",
   "execution_count": 10,
   "metadata": {
    "colab": {
     "base_uri": "https://localhost:8080/",
     "height": 522
    },
    "colab_type": "code",
    "id": "3O-YgrhudXdb",
    "outputId": "9cc02e04-2e1f-42b0-af30-7f36374239b1"
   },
   "outputs": [
    {
     "name": "stdout",
     "output_type": "stream",
     "text": [
      "count     45222\n",
      "unique        2\n",
      "top        Male\n",
      "freq      30527\n",
      "Name: gender, dtype: object\n",
      "================================================================================\n",
      "Unique Values including NaN: 2\n",
      "================================================================================\n",
      "mode:  0     Male\n",
      "dtype: object\n",
      "================================================================================\n",
      " Male      30527\n",
      " Female    14695\n",
      "Name: gender, dtype: int64\n"
     ]
    },
    {
     "data": {
      "image/png": "[encoded data removed]",
      "text/plain": [
       "<Figure size 432x288 with 1 Axes>"
      ]
     },
     "metadata": {
      "needs_background": "light",
      "tags": []
     },
     "output_type": "display_data"
    }
   ],
   "source": [
    "c_palette = ['tab:blue', 'tab:orange']\n",
    "categorical_summarized(complete_data, x='gender', hue='approved', palette=c_palette)"
   ]
  },
  {
   "cell_type": "markdown",
   "metadata": {
    "colab_type": "text",
    "id": "LlADVNMMqrDX"
   },
   "source": [
    "Out of total customers, **Male have applied for larger majority of loans**(30,527) and women have applied for less number of loans(14,695). **Male applicants are more than double.** Also a larger **percentage of female got loan approval(86%) than Male (68%).**"
   ]
  },
  {
   "cell_type": "code",
   "execution_count": 0,
   "metadata": {
    "colab": {},
    "colab_type": "code",
    "id": "7lgF5lJCqeS8"
   },
   "outputs": [],
   "source": [
    "# Convert Date column to Age as Age would be a better variable \n",
    "\n",
    "complete_data['date_of_birth']=pd.to_datetime(complete_data['date_of_birth'], yearfirst=True)\n",
    "\n",
    "complete_data[\"age\"] = (pd.to_datetime('now') - complete_data[\"date_of_birth\"]).astype('<m8[Y]')\n",
    "\n",
    "complete_data.drop('date_of_birth', axis=1, inplace=True)"
   ]
  },
  {
   "cell_type": "markdown",
   "metadata": {
    "colab_type": "text",
    "id": "ScJgL9kYrEpE"
   },
   "source": [
    "**Categorical Variable Analysis with Target**\n"
   ]
  },
  {
   "cell_type": "code",
   "execution_count": 12,
   "metadata": {
    "colab": {
     "base_uri": "https://localhost:8080/",
     "height": 1000
    },
    "colab_type": "code",
    "id": "OVF3SBHtrMsS",
    "outputId": "47fffb75-845b-40b5-c872-dd372270ad7e"
   },
   "outputs": [
    {
     "name": "stdout",
     "output_type": "stream",
     "text": [
      "Column:\t education_level\n",
      "count        45222\n",
      "unique          16\n",
      "top        HS-grad\n",
      "freq         14783\n",
      "Name: education_level, dtype: object\n",
      "================================================================================\n",
      "Unique Values including NaN: 16\n",
      "================================================================================\n",
      "mode:  0     HS-grad\n",
      "dtype: object\n",
      "================================================================================\n",
      " HS-grad         14783\n",
      " Some-college     9899\n",
      " Bachelors        7570\n",
      " Masters          2514\n",
      " Assoc-voc        1959\n",
      " 11th             1619\n",
      " Assoc-acdm       1507\n",
      " 10th             1223\n",
      " 7th-8th           823\n",
      " Prof-school       785\n",
      " 9th               676\n",
      " 12th              577\n",
      " Doctorate         544\n",
      " 5th-6th           449\n",
      " 1st-4th           222\n",
      " Preschool          72\n",
      "Name: education_level, dtype: int64\n"
     ]
    },
    {
     "data": {
      "image/png": "[encoded data removed]",
      "text/plain": [
       "<Figure size 432x288 with 1 Axes>"
      ]
     },
     "metadata": {
      "needs_background": "light",
      "tags": []
     },
     "output_type": "display_data"
    },
    {
     "name": "stdout",
     "output_type": "stream",
     "text": [
      "Column:\t marital_status\n",
      "count                   45222\n",
      "unique                      7\n",
      "top        Married-civ-spouse\n",
      "freq                    21055\n",
      "Name: marital_status, dtype: object\n",
      "================================================================================\n",
      "Unique Values including NaN: 7\n",
      "================================================================================\n",
      "mode:  0     Married-civ-spouse\n",
      "dtype: object\n",
      "================================================================================\n",
      " Married-civ-spouse       21055\n",
      " Never-married            14598\n",
      " Divorced                  6297\n",
      " Separated                 1411\n",
      " Widowed                   1277\n",
      " Married-spouse-absent      552\n",
      " Married-AF-spouse           32\n",
      "Name: marital_status, dtype: int64\n"
     ]
    },
    {
     "data": {
      "image/png": "[encoded data removed]",
      "text/plain": [
       "<Figure size 432x288 with 1 Axes>"
      ]
     },
     "metadata": {
      "needs_background": "light",
      "tags": []
     },
     "output_type": "display_data"
    },
    {
     "name": "stdout",
     "output_type": "stream",
     "text": [
      "Column:\t occupation\n",
      "count             45222\n",
      "unique               14\n",
      "top        Craft-repair\n",
      "freq               6020\n",
      "Name: occupation, dtype: object\n",
      "================================================================================\n",
      "Unique Values including NaN: 14\n",
      "================================================================================\n",
      "mode:  0     Craft-repair\n",
      "dtype: object\n",
      "================================================================================\n",
      " Craft-repair         6020\n",
      " Prof-specialty       6008\n",
      " Exec-managerial      5984\n",
      " Adm-clerical         5540\n",
      " Sales                5408\n",
      " Other-service        4808\n",
      " Machine-op-inspct    2970\n",
      " Transport-moving     2316\n",
      " Handlers-cleaners    2046\n",
      " Farming-fishing      1480\n",
      " Tech-support         1420\n",
      " Protective-serv       976\n",
      " Priv-house-serv       232\n",
      " Armed-Forces           14\n",
      "Name: occupation, dtype: int64\n"
     ]
    },
    {
     "data": {
      "image/png": "[encoded data removed]",
      "text/plain": [
       "<Figure size 432x288 with 1 Axes>"
      ]
     },
     "metadata": {
      "needs_background": "light",
      "tags": []
     },
     "output_type": "display_data"
    },
    {
     "name": "stdout",
     "output_type": "stream",
     "text": [
      "Column:\t relationship\n",
      "count        45222\n",
      "unique           6\n",
      "top        Husband\n",
      "freq         18666\n",
      "Name: relationship, dtype: object\n",
      "================================================================================\n",
      "Unique Values including NaN: 6\n",
      "================================================================================\n",
      "mode:  0     Husband\n",
      "dtype: object\n",
      "================================================================================\n",
      " Husband           18666\n",
      " Not-in-family     11702\n",
      " Own-child          6626\n",
      " Unmarried          4788\n",
      " Wife               2091\n",
      " Other-relative     1349\n",
      "Name: relationship, dtype: int64\n"
     ]
    },
    {
     "data": {
      "image/png": "[encoded data removed]",
      "text/plain": [
       "<Figure size 432x288 with 1 Axes>"
      ]
     },
     "metadata": {
      "needs_background": "light",
      "tags": []
     },
     "output_type": "display_data"
    },
    {
     "name": "stdout",
     "output_type": "stream",
     "text": [
      "Column:\t workclass\n",
      "count        45222\n",
      "unique           7\n",
      "top        Private\n",
      "freq         33307\n",
      "Name: workclass, dtype: object\n",
      "================================================================================\n",
      "Unique Values including NaN: 7\n",
      "================================================================================\n",
      "mode:  0     Private\n",
      "dtype: object\n",
      "================================================================================\n",
      " Private             33307\n",
      " Self-emp-not-inc     3796\n",
      " Local-gov            3100\n",
      " State-gov            1946\n",
      " Self-emp-inc         1646\n",
      " Federal-gov          1406\n",
      " Without-pay            21\n",
      "Name: workclass, dtype: int64\n"
     ]
    },
    {
     "data": {
      "image/png": "[encoded data removed]",
      "text/plain": [
       "<Figure size 432x288 with 1 Axes>"
      ]
     },
     "metadata": {
      "needs_background": "light",
      "tags": []
     },
     "output_type": "display_data"
    }
   ],
   "source": [
    "columns = ['education_level','marital_status','occupation','relationship','workclass']\n",
    "for col in columns:\n",
    "  print(\"Column:\\t\", col)\n",
    "  categorical_summarized(complete_data, y=col, hue='approved', palette=c_palette)"
   ]
  },
  {
   "cell_type": "code",
   "execution_count": 13,
   "metadata": {
    "colab": {
     "base_uri": "https://localhost:8080/",
     "height": 1000
    },
    "colab_type": "code",
    "id": "aKW9oiEfKVrw",
    "outputId": "65d57abc-8a4f-4c9f-f255-374551e6d5f8"
   },
   "outputs": [
    {
     "name": "stdout",
     "output_type": "stream",
     "text": [
      "Column:\t institute_type\n",
      "count     45222\n",
      "unique       10\n",
      "top         PVT\n",
      "freq      26669\n",
      "Name: institute_type, dtype: object\n",
      "================================================================================\n",
      "Unique Values including NaN: 10\n",
      "================================================================================\n",
      "mode:  0    PVT\n",
      "dtype: object\n",
      "================================================================================\n",
      "PVT    26669\n",
      "NBF    15927\n",
      "PUB     1226\n",
      "HFC      906\n",
      "BRO      303\n",
      "FOR      107\n",
      "INS       41\n",
      "COB       35\n",
      "TEL        4\n",
      "SRC        4\n",
      "Name: institute_type, dtype: int64\n"
     ]
    },
    {
     "data": {
      "image/png": "[encoded data removed]",
      "text/plain": [
       "<Figure size 432x288 with 1 Axes>"
      ]
     },
     "metadata": {
      "needs_background": "light",
      "tags": []
     },
     "output_type": "display_data"
    },
    {
     "name": "stdout",
     "output_type": "stream",
     "text": [
      "Column:\t asset_class_cd\n",
      "count     9492\n",
      "unique       8\n",
      "top          S\n",
      "freq      8609\n",
      "Name: asset_class_cd, dtype: object\n",
      "================================================================================\n",
      "Unique Values including NaN: 8\n",
      "================================================================================\n",
      "mode:  0    S\n",
      "dtype: object\n",
      "================================================================================\n",
      "S     8609\n",
      "?      319\n",
      "B      230\n",
      "L      144\n",
      "D      110\n",
      "M       78\n",
      "-1       1\n",
      "01       1\n",
      "Name: asset_class_cd, dtype: int64\n"
     ]
    },
    {
     "data": {
      "image/png": "[encoded data removed]",
      "text/plain": [
       "<Figure size 432x288 with 1 Axes>"
      ]
     },
     "metadata": {
      "needs_background": "light",
      "tags": []
     },
     "output_type": "display_data"
    },
    {
     "name": "stdout",
     "output_type": "stream",
     "text": [
      "Column:\t portfolio_type\n",
      "count     45216\n",
      "unique        4\n",
      "top           R\n",
      "freq      26967\n",
      "Name: portfolio_type, dtype: object\n",
      "================================================================================\n",
      "Unique Values including NaN: 4\n",
      "================================================================================\n",
      "mode:  0    R\n",
      "dtype: object\n",
      "================================================================================\n",
      "R    26967\n",
      "I    17088\n",
      "M     1146\n",
      "F       15\n",
      "Name: portfolio_type, dtype: int64\n"
     ]
    },
    {
     "data": {
      "image/png": "[encoded data removed]",
      "text/plain": [
       "<Figure size 432x288 with 1 Axes>"
      ]
     },
     "metadata": {
      "needs_background": "light",
      "tags": []
     },
     "output_type": "display_data"
    }
   ],
   "source": [
    "columns = ['institute_type', 'asset_class_cd', 'portfolio_type']\n",
    "for col in columns:\n",
    "  print(\"Column:\\t\", col)\n",
    "  categorical_summarized(complete_data, y=col, hue='approved', palette=c_palette)"
   ]
  },
  {
   "cell_type": "markdown",
   "metadata": {
    "colab_type": "text",
    "id": "Ac_JI5to70-b"
   },
   "source": [
    "**1.customers having education level college, graduation, Masters, Bachelors, Hs-Grad have maximum proprotion of loan applied and approveed. Customers having education level of school have less chance of loan approval.**\n",
    "\n",
    "**2. Highest percentage of people who are single and who are having civil spouse.**\n",
    "\n",
    "**3. Private Working people have highest applications and maximum approval rate.**\n"
   ]
  },
  {
   "cell_type": "markdown",
   "metadata": {
    "colab_type": "text",
    "id": "9qzycrlxEtuI"
   },
   "source": [
    "**Numerical Variable Analysis**"
   ]
  },
  {
   "cell_type": "code",
   "execution_count": 14,
   "metadata": {
    "colab": {
     "base_uri": "https://localhost:8080/",
     "height": 716
    },
    "colab_type": "code",
    "id": "InEIDaUddsmf",
    "outputId": "1754ec66-f12c-43b3-9eef-2244fad252fd"
   },
   "outputs": [
    {
     "data": {
      "image/png": "[encoded data removed]",
      "text/plain": [
       "<Figure size 864x864 with 9 Axes>"
      ]
     },
     "metadata": {
      "needs_background": "light",
      "tags": []
     },
     "output_type": "display_data"
    }
   ],
   "source": [
    "# Distribution of Different Features of the Dataset\n",
    "distribution = complete_data.hist(edgecolor = 'black', linewidth = 1.2, color = 'c')\n",
    "fig = plt.gcf()\n",
    "fig.set_size_inches(12,12)\n",
    "plt.show()"
   ]
  },
  {
   "cell_type": "markdown",
   "metadata": {
    "colab_type": "text",
    "id": "1z_fR3b-Z3gD"
   },
   "source": [
    "**Target Variable is Imbalanced**"
   ]
  },
  {
   "cell_type": "markdown",
   "metadata": {
    "colab_type": "text",
    "id": "R4pbtxsPatwp"
   },
   "source": [
    "**Most of customers are between 20 to 60 which seems reasonable**"
   ]
  },
  {
   "cell_type": "markdown",
   "metadata": {
    "colab_type": "text",
    "id": "blG-nH_HcE_Q"
   },
   "source": [
    "**Maximum percentage of distribution is having 40 hours per week. It seems reasonable**"
   ]
  },
  {
   "cell_type": "markdown",
   "metadata": {
    "colab_type": "text",
    "id": "MFfISlRveqi4"
   },
   "source": [
    "**Most People have capital gain and capital loss as 0 so most people neither have extra loss or extar gain through investments**"
   ]
  },
  {
   "cell_type": "code",
   "execution_count": 15,
   "metadata": {
    "colab": {
     "base_uri": "https://localhost:8080/",
     "height": 233
    },
    "colab_type": "code",
    "id": "qNMSCQRPffD-",
    "outputId": "6ecf5701-139f-484b-c5f0-eae720e81220"
   },
   "outputs": [
    {
     "data": {
      "text/html": [
       "<div>\n",
       "<style scoped>\n",
       "    .dataframe tbody tr th:only-of-type {\n",
       "        vertical-align: middle;\n",
       "    }\n",
       "\n",
       "    .dataframe tbody tr th {\n",
       "        vertical-align: top;\n",
       "    }\n",
       "\n",
       "    .dataframe thead th {\n",
       "        text-align: right;\n",
       "    }\n",
       "</style>\n",
       "<table border=\"1\" class=\"dataframe\">\n",
       "  <thead>\n",
       "    <tr style=\"text-align: right;\">\n",
       "      <th></th>\n",
       "      <th>approved</th>\n",
       "      <th>capital_gain</th>\n",
       "    </tr>\n",
       "    <tr>\n",
       "      <th>user_id</th>\n",
       "      <th></th>\n",
       "      <th></th>\n",
       "    </tr>\n",
       "  </thead>\n",
       "  <tbody>\n",
       "    <tr>\n",
       "      <th>9c50eb6e-aa75-4194-a274-118b4070f5c4</th>\n",
       "      <td>0</td>\n",
       "      <td>114.0</td>\n",
       "    </tr>\n",
       "    <tr>\n",
       "      <th>95861b76-d1e7-41c8-9f58-50be4f205f9d</th>\n",
       "      <td>0</td>\n",
       "      <td>114.0</td>\n",
       "    </tr>\n",
       "    <tr>\n",
       "      <th>4bce7040-2503-4b5b-b54a-ff29db6c80f1</th>\n",
       "      <td>0</td>\n",
       "      <td>114.0</td>\n",
       "    </tr>\n",
       "    <tr>\n",
       "      <th>487dc5a4-b961-434f-9a8d-3a8b8b37326a</th>\n",
       "      <td>0</td>\n",
       "      <td>114.0</td>\n",
       "    </tr>\n",
       "    <tr>\n",
       "      <th>dde193ed-7a0a-4d6a-bd13-740b7354b75e</th>\n",
       "      <td>0</td>\n",
       "      <td>114.0</td>\n",
       "    </tr>\n",
       "  </tbody>\n",
       "</table>\n",
       "</div>"
      ],
      "text/plain": [
       "                                      approved  capital_gain\n",
       "user_id                                                     \n",
       "9c50eb6e-aa75-4194-a274-118b4070f5c4         0         114.0\n",
       "95861b76-d1e7-41c8-9f58-50be4f205f9d         0         114.0\n",
       "4bce7040-2503-4b5b-b54a-ff29db6c80f1         0         114.0\n",
       "487dc5a4-b961-434f-9a8d-3a8b8b37326a         0         114.0\n",
       "dde193ed-7a0a-4d6a-bd13-740b7354b75e         0         114.0"
      ]
     },
     "execution_count": 15,
     "metadata": {
      "tags": []
     },
     "output_type": "execute_result"
    }
   ],
   "source": [
    "capital_gain_outlier = complete_data[['approved','capital_gain']][(complete_data['capital_gain']!=0)]\n",
    "capital_gain_outlier.head()"
   ]
  },
  {
   "cell_type": "markdown",
   "metadata": {
    "colab_type": "text",
    "id": "4hUE-awwgy6h"
   },
   "source": [
    "**Wherever capital gain is not zero, capital gain has constant value**"
   ]
  },
  {
   "cell_type": "code",
   "execution_count": 16,
   "metadata": {
    "colab": {
     "base_uri": "https://localhost:8080/",
     "height": 369
    },
    "colab_type": "code",
    "id": "oVsgl3p5bRyK",
    "outputId": "21f4c8ff-56db-470d-dab3-469d4e0ef107"
   },
   "outputs": [
    {
     "data": {
      "image/png": "[encoded data removed]",
      "text/plain": [
       "<Figure size 432x288 with 2 Axes>"
      ]
     },
     "metadata": {
      "needs_background": "light",
      "tags": []
     },
     "output_type": "display_data"
    }
   ],
   "source": [
    "# Correlation matrix between numerical values\n",
    "g = sns.heatmap(complete_data.corr(),annot=True, fmt = \".2f\", cmap = \"coolwarm\")\n",
    "plt.show()"
   ]
  },
  {
   "cell_type": "markdown",
   "metadata": {
    "colab_type": "text",
    "id": "fQKHtxa4jr3y"
   },
   "source": [
    "**By Looking at map we can say target is not dependent on inquiry_purpose_code,account_type,asset_code**"
   ]
  },
  {
   "cell_type": "markdown",
   "metadata": {
    "colab_type": "text",
    "id": "d4aLlmHWkNTP"
   },
   "source": [
    "**Feature Engineering**"
   ]
  },
  {
   "cell_type": "markdown",
   "metadata": {
    "colab_type": "text",
    "id": "15H3Lfj1m7nR"
   },
   "source": [
    "1. change marital status to married and single\n",
    "3. drop education, relationship and occupation\n",
    "4. drop inquiry_purpose_code,account_type,asset_code\n",
    "5. check for missing values\n",
    "6. perform one hot encoding\n",
    "7. feature scaling if required\n",
    "8. divide into train and test\n",
    "9. build model\n",
    "10. choose confusion metrix and roc_auc curve"
   ]
  },
  {
   "cell_type": "code",
   "execution_count": 0,
   "metadata": {
    "colab": {},
    "colab_type": "code",
    "id": "v5ZRcrrGwpqO"
   },
   "outputs": [],
   "source": [
    "complete_data['marital_status']=complete_data['marital_status'].map({' Married-civ-spouse':'Married', ' Divorced':'Single', ' Never-married':'Single', ' Separated':'Single', \n",
    "' Widowed':'Single', ' Married-spouse-absent':'Married', ' Married-AF-spouse':'Married'})"
   ]
  },
  {
   "cell_type": "code",
   "execution_count": 0,
   "metadata": {
    "colab": {},
    "colab_type": "code",
    "id": "r-owbidFzV28"
   },
   "outputs": [],
   "source": [
    "#complete_data=complete_data.drop(['occupation','education_level','relationship','inquiry_purpose_code','account_type','asset_code','address','email','asset_class_cd'],axis=1)"
   ]
  },
  {
   "cell_type": "markdown",
   "metadata": {
    "colab_type": "text",
    "id": "2In0ZnukEMii"
   },
   "source": [
    "**Prepare the data for Machine Learning algorithms**"
   ]
  },
  {
   "cell_type": "markdown",
   "metadata": {
    "colab_type": "text",
    "id": "D-E4EbmScBVW"
   },
   "source": [
    "1. Code to drop label from training data\n",
    "2. Separate numerical and categorical features to process them separately\n",
    "3. fill missing values in numerical features and scale features. Save median value so that can be used when system goes live\n",
    "2. Code to convert marital_status in tocateories\n",
    "3. Code to remove features\n",
    "4. Code to convert date of birth into age\n",
    "5. Code to select dataframe subset from a dataframe as scikit learn doesn't wortk with dataframes\n",
    "6. Code to fill missing values in categorical features\n",
    "6. Code to convert categorical features to one hot encoding\n",
    "7. Code to fill missing values in numerical \n",
    "7. Code to scale numerical features\n"
   ]
  },
  {
   "cell_type": "markdown",
   "metadata": {
    "colab_type": "text",
    "id": "6CkbWuIbGEfH"
   },
   "source": [
    "**Check For Missing Values percentage in columns**"
   ]
  },
  {
   "cell_type": "code",
   "execution_count": 19,
   "metadata": {
    "colab": {
     "base_uri": "https://localhost:8080/",
     "height": 662
    },
    "colab_type": "code",
    "id": "L1msZEvsOeYG",
    "outputId": "0d60196a-a2e9-4d6e-8d42-7712c095a588"
   },
   "outputs": [
    {
     "data": {
      "text/html": [
       "<div>\n",
       "<style scoped>\n",
       "    .dataframe tbody tr th:only-of-type {\n",
       "        vertical-align: middle;\n",
       "    }\n",
       "\n",
       "    .dataframe tbody tr th {\n",
       "        vertical-align: top;\n",
       "    }\n",
       "\n",
       "    .dataframe thead th {\n",
       "        text-align: right;\n",
       "    }\n",
       "</style>\n",
       "<table border=\"1\" class=\"dataframe\">\n",
       "  <thead>\n",
       "    <tr style=\"text-align: right;\">\n",
       "      <th></th>\n",
       "      <th>column_name</th>\n",
       "      <th>percent_missing</th>\n",
       "    </tr>\n",
       "  </thead>\n",
       "  <tbody>\n",
       "    <tr>\n",
       "      <th>asset_class_cd</th>\n",
       "      <td>asset_class_cd</td>\n",
       "      <td>78.972828</td>\n",
       "    </tr>\n",
       "    <tr>\n",
       "      <th>inquiry_purpose_code</th>\n",
       "      <td>inquiry_purpose_code</td>\n",
       "      <td>2.866462</td>\n",
       "    </tr>\n",
       "    <tr>\n",
       "      <th>asset_code</th>\n",
       "      <td>asset_code</td>\n",
       "      <td>0.176908</td>\n",
       "    </tr>\n",
       "    <tr>\n",
       "      <th>portfolio_type</th>\n",
       "      <td>portfolio_type</td>\n",
       "      <td>0.008293</td>\n",
       "    </tr>\n",
       "    <tr>\n",
       "      <th>date_of_birth</th>\n",
       "      <td>date_of_birth</td>\n",
       "      <td>0.000000</td>\n",
       "    </tr>\n",
       "    <tr>\n",
       "      <th>account_type</th>\n",
       "      <td>account_type</td>\n",
       "      <td>0.000000</td>\n",
       "    </tr>\n",
       "    <tr>\n",
       "      <th>institute_type</th>\n",
       "      <td>institute_type</td>\n",
       "      <td>0.000000</td>\n",
       "    </tr>\n",
       "    <tr>\n",
       "      <th>email</th>\n",
       "      <td>email</td>\n",
       "      <td>0.000000</td>\n",
       "    </tr>\n",
       "    <tr>\n",
       "      <th>address</th>\n",
       "      <td>address</td>\n",
       "      <td>0.000000</td>\n",
       "    </tr>\n",
       "    <tr>\n",
       "      <th>approved</th>\n",
       "      <td>approved</td>\n",
       "      <td>0.000000</td>\n",
       "    </tr>\n",
       "    <tr>\n",
       "      <th>gender</th>\n",
       "      <td>gender</td>\n",
       "      <td>0.000000</td>\n",
       "    </tr>\n",
       "    <tr>\n",
       "      <th>capital_loss</th>\n",
       "      <td>capital_loss</td>\n",
       "      <td>0.000000</td>\n",
       "    </tr>\n",
       "    <tr>\n",
       "      <th>capital_gain</th>\n",
       "      <td>capital_gain</td>\n",
       "      <td>0.000000</td>\n",
       "    </tr>\n",
       "    <tr>\n",
       "      <th>relationship</th>\n",
       "      <td>relationship</td>\n",
       "      <td>0.000000</td>\n",
       "    </tr>\n",
       "    <tr>\n",
       "      <th>occupation</th>\n",
       "      <td>occupation</td>\n",
       "      <td>0.000000</td>\n",
       "    </tr>\n",
       "    <tr>\n",
       "      <th>marital_status</th>\n",
       "      <td>marital_status</td>\n",
       "      <td>0.000000</td>\n",
       "    </tr>\n",
       "    <tr>\n",
       "      <th>education_num</th>\n",
       "      <td>education_num</td>\n",
       "      <td>0.000000</td>\n",
       "    </tr>\n",
       "    <tr>\n",
       "      <th>education_level</th>\n",
       "      <td>education_level</td>\n",
       "      <td>0.000000</td>\n",
       "    </tr>\n",
       "    <tr>\n",
       "      <th>workclass</th>\n",
       "      <td>workclass</td>\n",
       "      <td>0.000000</td>\n",
       "    </tr>\n",
       "    <tr>\n",
       "      <th>hours_per_week</th>\n",
       "      <td>hours_per_week</td>\n",
       "      <td>0.000000</td>\n",
       "    </tr>\n",
       "  </tbody>\n",
       "</table>\n",
       "</div>"
      ],
      "text/plain": [
       "                               column_name  percent_missing\n",
       "asset_class_cd              asset_class_cd        78.972828\n",
       "inquiry_purpose_code  inquiry_purpose_code         2.866462\n",
       "asset_code                      asset_code         0.176908\n",
       "portfolio_type              portfolio_type         0.008293\n",
       "date_of_birth                date_of_birth         0.000000\n",
       "account_type                  account_type         0.000000\n",
       "institute_type              institute_type         0.000000\n",
       "email                                email         0.000000\n",
       "address                            address         0.000000\n",
       "approved                          approved         0.000000\n",
       "gender                              gender         0.000000\n",
       "capital_loss                  capital_loss         0.000000\n",
       "capital_gain                  capital_gain         0.000000\n",
       "relationship                  relationship         0.000000\n",
       "occupation                      occupation         0.000000\n",
       "marital_status              marital_status         0.000000\n",
       "education_num                education_num         0.000000\n",
       "education_level            education_level         0.000000\n",
       "workclass                        workclass         0.000000\n",
       "hours_per_week              hours_per_week         0.000000"
      ]
     },
     "execution_count": 19,
     "metadata": {
      "tags": []
     },
     "output_type": "execute_result"
    }
   ],
   "source": [
    "percent_missing = strat_train_set.isnull().sum() * 100 / len(strat_train_set)\n",
    "missing_value_df = pd.DataFrame({'column_name': strat_train_set.columns,\n",
    "                                 'percent_missing': percent_missing})\n",
    "missing_value_df.sort_values('percent_missing', inplace=True, ascending=False)\n",
    "missing_value_df"
   ]
  },
  {
   "cell_type": "markdown",
   "metadata": {
    "colab_type": "text",
    "id": "NP1eoQgkUl0R"
   },
   "source": [
    "**Portfolio type has small percentage of missing values**"
   ]
  },
  {
   "cell_type": "markdown",
   "metadata": {
    "colab_type": "text",
    "id": "OBGnD9VkExnP"
   },
   "source": [
    "Let's revert to a clean training and testing dataset\n",
    "\n",
    "**Remove label from training and testing dataset**"
   ]
  },
  {
   "cell_type": "code",
   "execution_count": 0,
   "metadata": {
    "colab": {},
    "colab_type": "code",
    "id": "g_vA6qcFFixH"
   },
   "outputs": [],
   "source": [
    "train_features = strat_train_set.drop(\"approved\", axis=1) # drop labels for training set\n",
    "train_labels = strat_train_set[\"approved\"].copy()\n",
    "\n",
    "test_features = strat_test_set.drop(\"approved\", axis=1) # drop labels for training set\n",
    "test_labels = strat_test_set[\"approved\"].copy()\n"
   ]
  },
  {
   "cell_type": "markdown",
   "metadata": {
    "colab_type": "text",
    "id": "4PfqsBPiS0-P"
   },
   "source": [
    "**All Feature Engineering steps on clean training and testing data**"
   ]
  },
  {
   "cell_type": "code",
   "execution_count": 0,
   "metadata": {
    "colab": {},
    "colab_type": "code",
    "id": "9WlNCHxdSGVI"
   },
   "outputs": [],
   "source": [
    "train_features['marital_status']=train_features['marital_status'].map({' Married-civ-spouse':'Married', ' Divorced':'Single', ' Never-married':'Single', ' Separated':'Single', \n",
    "' Widowed':'Single', ' Married-spouse-absent':'Married', ' Married-AF-spouse':'Married'})\n",
    "\n",
    "train_features=train_features.drop(['occupation','education_level','relationship','inquiry_purpose_code','account_type','asset_code','address','asset_class_cd','email'],axis=1)\n",
    "\n",
    "# Convert Date column to Age as Age would be a better variable \n",
    "\n",
    "train_features['date_of_birth']=pd.to_datetime(train_features['date_of_birth'], yearfirst=True)\n",
    "\n",
    "train_features[\"age\"] = (pd.to_datetime('now') - train_features[\"date_of_birth\"]).astype('<m8[Y]')\n",
    "\n",
    "train_features.drop('date_of_birth', axis=1, inplace=True)"
   ]
  },
  {
   "cell_type": "code",
   "execution_count": 0,
   "metadata": {
    "colab": {},
    "colab_type": "code",
    "id": "lf3Nfa33JL1o"
   },
   "outputs": [],
   "source": [
    "test_features['marital_status']=test_features['marital_status'].map({' Married-civ-spouse':'Married', ' Divorced':'Single', ' Never-married':'Single', ' Separated':'Single', \n",
    "' Widowed':'Single', ' Married-spouse-absent':'Married', ' Married-AF-spouse':'Married'})\n",
    "\n",
    "test_features=test_features.drop(['occupation','education_level','relationship','inquiry_purpose_code','account_type','asset_code','address','asset_class_cd','email'],axis=1)\n",
    "\n",
    "# Convert Date column to Age as Age would be a better variable \n",
    "\n",
    "test_features['date_of_birth']=pd.to_datetime(test_features['date_of_birth'], yearfirst=True)\n",
    "\n",
    "test_features[\"age\"] = (pd.to_datetime('now') - test_features[\"date_of_birth\"]).astype('<m8[Y]')\n",
    "\n",
    "test_features.drop('date_of_birth', axis=1, inplace=True)"
   ]
  },
  {
   "cell_type": "code",
   "execution_count": 0,
   "metadata": {
    "colab": {},
    "colab_type": "code",
    "id": "QLRtL7NOQkig"
   },
   "outputs": [],
   "source": [
    "# Separate categorical and Numerical columns based on data types\n",
    "column_names = train_features.columns.values\n",
    "num_cols = list(train_features._get_numeric_data().columns)\n",
    "cat_cols = list(set(column_names) - set(num_cols))\n",
    "\n",
    "train_features_num = train_features[num_cols]\n",
    "\n",
    "train_features_cat = train_features[cat_cols]\n",
    "\n",
    "# print(\"Numerical Columns are: \",num_cols)\n",
    "# print(\"\\ncategorical Columns are: \",cat_cols)"
   ]
  },
  {
   "cell_type": "code",
   "execution_count": 0,
   "metadata": {
    "colab": {},
    "colab_type": "code",
    "id": "UuasMLkXiN5D"
   },
   "outputs": [],
   "source": [
    "from sklearn.base import BaseEstimator, TransformerMixin\n",
    "\n",
    "# Create a class to select numerical or categorical columns \n",
    "# since Scikit-Learn doesn't handle DataFrames yet\n",
    "class DataFrameSelector(BaseEstimator, TransformerMixin):\n",
    "    def __init__(self, attribute_names):\n",
    "        self.attribute_names = attribute_names\n",
    "    def fit(self, X, y=None):\n",
    "        return self\n",
    "    def transform(self, X):\n",
    "        return X[self.attribute_names].values"
   ]
  },
  {
   "cell_type": "code",
   "execution_count": 0,
   "metadata": {
    "colab": {},
    "colab_type": "code",
    "id": "1jxoJ15pffPd"
   },
   "outputs": [],
   "source": [
    "# Now let's build a pipeline for preprocessing the numerical attributes:\n",
    "\n",
    "from sklearn.impute import SimpleImputer\n",
    "from sklearn.pipeline import Pipeline\n",
    "from sklearn.preprocessing import StandardScaler\n",
    "\n",
    "num_pipeline = Pipeline([\n",
    "        ('selector', DataFrameSelector(num_cols)),\n",
    "        ('imputer', SimpleImputer(strategy=\"median\")),\n",
    "        ('std_scaler', StandardScaler()),\n",
    "    ])\n",
    "\n",
    "train_features_num_tr = num_pipeline.fit_transform(train_features_num)\n",
    "\n",
    "# output of numerical pipeline is array\n",
    "# convert array to pandas dataframe again\n",
    "\n",
    "train_features_num_tr =  pd.DataFrame( train_features_num_tr, columns=train_features_num.columns)\n"
   ]
  },
  {
   "cell_type": "markdown",
   "metadata": {
    "colab_type": "text",
    "id": "J1rCIjL7JL2C"
   },
   "source": [
    "**Handling Categorical Attributes**"
   ]
  },
  {
   "cell_type": "code",
   "execution_count": 0,
   "metadata": {
    "colab": {},
    "colab_type": "code",
    "id": "cExKSK34JL2D"
   },
   "outputs": [],
   "source": [
    "from sklearn.base import BaseEstimator, TransformerMixin\n",
    "from sklearn.utils import check_array\n",
    "from sklearn.preprocessing import LabelEncoder\n",
    "from scipy import sparse\n",
    "\n",
    "class CategoricalEncoder(BaseEstimator, TransformerMixin):\n",
    "    \"\"\"Encode categorical features as a numeric array.\n",
    "    The input to this transformer should be a matrix of integers or strings,\n",
    "    denoting the values taken on by categorical (discrete) features.\n",
    "    The features can be encoded using a one-hot aka one-of-K scheme\n",
    "    (``encoding='onehot'``, the default) or converted to ordinal integers\n",
    "    (``encoding='ordinal'``).\n",
    "    This encoding is needed for feeding categorical data to many scikit-learn\n",
    "    estimators, notably linear models and SVMs with the standard kernels.\n",
    "    Read more in the :ref:`User Guide <preprocessing_categorical_features>`.\n",
    "    Parameters\n",
    "    ----------\n",
    "    encoding : str, 'onehot', 'onehot-dense' or 'ordinal'\n",
    "        The type of encoding to use (default is 'onehot'):\n",
    "        - 'onehot': encode the features using a one-hot aka one-of-K scheme\n",
    "          (or also called 'dummy' encoding). This creates a binary column for\n",
    "          each category and returns a sparse matrix.\n",
    "        - 'onehot-dense': the same as 'onehot' but returns a dense array\n",
    "          instead of a sparse matrix.\n",
    "        - 'ordinal': encode the features as ordinal integers. This results in\n",
    "          a single column of integers (0 to n_categories - 1) per feature.\n",
    "    categories : 'auto' or a list of lists/arrays of values.\n",
    "        Categories (unique values) per feature:\n",
    "        - 'auto' : Determine categories automatically from the training data.\n",
    "        - list : ``categories[i]`` holds the categories expected in the ith\n",
    "          column. The passed categories are sorted before encoding the data\n",
    "          (used categories can be found in the ``categories_`` attribute).\n",
    "    dtype : number type, default np.float64\n",
    "        Desired dtype of output.\n",
    "    handle_unknown : 'error' (default) or 'ignore'\n",
    "        Whether to raise an error or ignore if a unknown categorical feature is\n",
    "        present during transform (default is to raise). When this is parameter\n",
    "        is set to 'ignore' and an unknown category is encountered during\n",
    "        transform, the resulting one-hot encoded columns for this feature\n",
    "        will be all zeros.\n",
    "        Ignoring unknown categories is not supported for\n",
    "        ``encoding='ordinal'``.\n",
    "    Attributes\n",
    "    ----------\n",
    "    categories_ : list of arrays\n",
    "        The categories of each feature determined during fitting. When\n",
    "        categories were specified manually, this holds the sorted categories\n",
    "        (in order corresponding with output of `transform`).\n",
    "    Examples\n",
    "    --------\n",
    "    Given a dataset with three features and two samples, we let the encoder\n",
    "    find the maximum value per feature and transform the data to a binary\n",
    "    one-hot encoding.\n",
    "    >>> from sklearn.preprocessing import CategoricalEncoder\n",
    "    >>> enc = CategoricalEncoder(handle_unknown='ignore')\n",
    "    >>> enc.fit([[0, 0, 3], [1, 1, 0], [0, 2, 1], [1, 0, 2]])\n",
    "    ... # doctest: +ELLIPSIS\n",
    "    CategoricalEncoder(categories='auto', dtype=<... 'numpy.float64'>,\n",
    "              encoding='onehot', handle_unknown='ignore')\n",
    "    >>> enc.transform([[0, 1, 1], [1, 0, 4]]).toarray()\n",
    "    array([[ 1.,  0.,  0.,  1.,  0.,  0.,  1.,  0.,  0.],\n",
    "           [ 0.,  1.,  1.,  0.,  0.,  0.,  0.,  0.,  0.]])\n",
    "    See also\n",
    "    --------\n",
    "    sklearn.preprocessing.OneHotEncoder : performs a one-hot encoding of\n",
    "      integer ordinal features. The ``OneHotEncoder assumes`` that input\n",
    "      features take on values in the range ``[0, max(feature)]`` instead of\n",
    "      using the unique values.\n",
    "    sklearn.feature_extraction.DictVectorizer : performs a one-hot encoding of\n",
    "      dictionary items (also handles string-valued features).\n",
    "    sklearn.feature_extraction.FeatureHasher : performs an approximate one-hot\n",
    "      encoding of dictionary items or strings.\n",
    "    \"\"\"\n",
    "\n",
    "    def __init__(self, encoding='onehot', categories='auto', dtype=np.float64,\n",
    "                 handle_unknown='error'):\n",
    "        self.encoding = encoding\n",
    "        self.categories = categories\n",
    "        self.dtype = dtype\n",
    "        self.handle_unknown = handle_unknown\n",
    "\n",
    "    def fit(self, X, y=None):\n",
    "        \"\"\"Fit the CategoricalEncoder to X.\n",
    "        Parameters\n",
    "        ----------\n",
    "        X : array-like, shape [n_samples, n_feature]\n",
    "            The data to determine the categories of each feature.\n",
    "        Returns\n",
    "        -------\n",
    "        self\n",
    "        \"\"\"\n",
    "\n",
    "        if self.encoding not in ['onehot', 'onehot-dense', 'ordinal']:\n",
    "            template = (\"encoding should be either 'onehot', 'onehot-dense' \"\n",
    "                        \"or 'ordinal', got %s\")\n",
    "            raise ValueError(template % self.handle_unknown)\n",
    "\n",
    "        if self.handle_unknown not in ['error', 'ignore']:\n",
    "            template = (\"handle_unknown should be either 'error' or \"\n",
    "                        \"'ignore', got %s\")\n",
    "            raise ValueError(template % self.handle_unknown)\n",
    "\n",
    "        if self.encoding == 'ordinal' and self.handle_unknown == 'ignore':\n",
    "            raise ValueError(\"handle_unknown='ignore' is not supported for\"\n",
    "                             \" encoding='ordinal'\")\n",
    "\n",
    "        X = check_array(X, dtype=np.object, accept_sparse='csc', copy=True)\n",
    "        n_samples, n_features = X.shape\n",
    "\n",
    "        self._label_encoders_ = [LabelEncoder() for _ in range(n_features)]\n",
    "\n",
    "        for i in range(n_features):\n",
    "            le = self._label_encoders_[i]\n",
    "            Xi = X[:, i]\n",
    "            if self.categories == 'auto':\n",
    "                le.fit(Xi)\n",
    "            else:\n",
    "                valid_mask = np.in1d(Xi, self.categories[i])\n",
    "                if not np.all(valid_mask):\n",
    "                    if self.handle_unknown == 'error':\n",
    "                        diff = np.unique(Xi[~valid_mask])\n",
    "                        msg = (\"Found unknown categories {0} in column {1}\"\n",
    "                               \" during fit\".format(diff, i))\n",
    "                        raise ValueError(msg)\n",
    "                le.classes_ = np.array(np.sort(self.categories[i]))\n",
    "\n",
    "        self.categories_ = [le.classes_ for le in self._label_encoders_]\n",
    "\n",
    "        return self\n",
    "\n",
    "    def transform(self, X):\n",
    "        \"\"\"Transform X using one-hot encoding.\n",
    "        Parameters\n",
    "        ----------\n",
    "        X : array-like, shape [n_samples, n_features]\n",
    "            The data to encode.\n",
    "        Returns\n",
    "        -------\n",
    "        X_out : sparse matrix or a 2-d array\n",
    "            Transformed input.\n",
    "        \"\"\"\n",
    "        X = check_array(X, accept_sparse='csc', dtype=np.object, copy=True)\n",
    "        n_samples, n_features = X.shape\n",
    "        X_int = np.zeros_like(X, dtype=np.int)\n",
    "        X_mask = np.ones_like(X, dtype=np.bool)\n",
    "\n",
    "        for i in range(n_features):\n",
    "            valid_mask = np.in1d(X[:, i], self.categories_[i])\n",
    "\n",
    "            if not np.all(valid_mask):\n",
    "                if self.handle_unknown == 'error':\n",
    "                    diff = np.unique(X[~valid_mask, i])\n",
    "                    msg = (\"Found unknown categories {0} in column {1}\"\n",
    "                           \" during transform\".format(diff, i))\n",
    "                    raise ValueError(msg)\n",
    "                else:\n",
    "                    # Set the problematic rows to an acceptable value and\n",
    "                    # continue `The rows are marked `X_mask` and will be\n",
    "                    # removed later.\n",
    "                    X_mask[:, i] = valid_mask\n",
    "                    X[:, i][~valid_mask] = self.categories_[i][0]\n",
    "            X_int[:, i] = self._label_encoders_[i].transform(X[:, i])\n",
    "\n",
    "        if self.encoding == 'ordinal':\n",
    "            return X_int.astype(self.dtype, copy=False)\n",
    "\n",
    "        mask = X_mask.ravel()\n",
    "        n_values = [cats.shape[0] for cats in self.categories_]\n",
    "        n_values = np.array([0] + n_values)\n",
    "        indices = np.cumsum(n_values)\n",
    "\n",
    "        column_indices = (X_int + indices[:-1]).ravel()[mask]\n",
    "        row_indices = np.repeat(np.arange(n_samples, dtype=np.int32),\n",
    "                                n_features)[mask]\n",
    "        data = np.ones(n_samples * n_features)[mask]\n",
    "\n",
    "        out = sparse.csc_matrix((data, (row_indices, column_indices)),\n",
    "                                shape=(n_samples, indices[-1]),\n",
    "                                dtype=self.dtype).tocsr()\n",
    "        if self.encoding == 'onehot-dense':\n",
    "            return out.toarray()\n",
    "        else:\n",
    "            return out"
   ]
  },
  {
   "cell_type": "code",
   "execution_count": 0,
   "metadata": {
    "colab": {},
    "colab_type": "code",
    "id": "RKiBdqFcJL2H"
   },
   "outputs": [],
   "source": [
    "cat_pipeline = Pipeline([\n",
    "        ('selector', DataFrameSelector(cat_cols)),\n",
    "        ('imputer', SimpleImputer(strategy=\"most_frequent\")),\n",
    "        ('cat_encoder', CategoricalEncoder(encoding=\"onehot-dense\")),\n",
    "    ])"
   ]
  },
  {
   "cell_type": "code",
   "execution_count": 0,
   "metadata": {
    "colab": {},
    "colab_type": "code",
    "id": "Ww6QU2CrJL2N"
   },
   "outputs": [],
   "source": [
    "from sklearn.pipeline import FeatureUnion\n",
    "\n",
    "full_pipeline = FeatureUnion(transformer_list=[\n",
    "        (\"num_pipeline\", num_pipeline),\n",
    "        (\"cat_pipeline\", cat_pipeline),\n",
    "    ])"
   ]
  },
  {
   "cell_type": "code",
   "execution_count": 29,
   "metadata": {
    "colab": {
     "base_uri": "https://localhost:8080/",
     "height": 87
    },
    "colab_type": "code",
    "id": "CfnbceI_JL2R",
    "outputId": "1c981daa-bc07-4c51-c83d-f3abe88f3383"
   },
   "outputs": [
    {
     "data": {
      "text/plain": [
       "Index(['gender', 'workclass', 'education_num', 'marital_status',\n",
       "       'capital_gain', 'capital_loss', 'hours_per_week', 'institute_type',\n",
       "       'portfolio_type', 'age'],\n",
       "      dtype='object')"
      ]
     },
     "execution_count": 29,
     "metadata": {
      "tags": []
     },
     "output_type": "execute_result"
    }
   ],
   "source": [
    "train_features.columns"
   ]
  },
  {
   "cell_type": "code",
   "execution_count": 0,
   "metadata": {
    "colab": {},
    "colab_type": "code",
    "id": "5mtxbCk4JL2W"
   },
   "outputs": [],
   "source": [
    "# apply the full pipeline on training data\n",
    "train_data_prep = full_pipeline.fit_transform(train_features)\n",
    "\n",
    "test_data_prep  = full_pipeline.transform(test_features)"
   ]
  },
  {
   "cell_type": "markdown",
   "metadata": {
    "colab_type": "text",
    "id": "wMrqlpv5JL2b"
   },
   "source": [
    "**Select and Train a Model**"
   ]
  },
  {
   "cell_type": "code",
   "execution_count": 0,
   "metadata": {
    "colab": {},
    "colab_type": "code",
    "id": "Ko23td20Sk4e"
   },
   "outputs": [],
   "source": [
    "from prettytable import PrettyTable\n",
    "from sklearn.linear_model import LogisticRegression,SGDClassifier\n",
    "from sklearn.ensemble import RandomForestClassifier\n",
    "from sklearn.tree import DecisionTreeClassifier\n",
    "from xgboost import XGBClassifier\n",
    "import pickle\n",
    "from sklearn.model_selection import GridSearchCV\n",
    "from sklearn.metrics import accuracy_score,f1_score,roc_auc_score,roc_curve,auc,confusion_matrix"
   ]
  },
  {
   "cell_type": "code",
   "execution_count": 0,
   "metadata": {
    "colab": {},
    "colab_type": "code",
    "id": "9OxsciDeJL2c"
   },
   "outputs": [],
   "source": [
    "final_table = PrettyTable()\n",
    "final_table.field_names=['Algorithm','Train accuracy','Test accuracy']\n",
    "\n",
    "\n",
    "class ApplyModel:\n",
    "    \n",
    "    def __init__(self,train=0,test=0,ytrain=0,ytest=0,algorithm='logistic',basedir=\"data/\"):\n",
    "        '''\n",
    "            Given train,test data along with target labels, we can apply machine learning algorithms like\n",
    "            logistic regression, naive bayes, sklearn sgd.\n",
    "            \n",
    "            train   : train data\n",
    "            test    : test  data\n",
    "            ytrain  : target labels of train data\n",
    "            ytest   : target labels of test  data\n",
    "            algorithm: which algorithm to use \n",
    "                        (logistic : to use logistic regression\n",
    "                         naive    : to use naive bayes \n",
    "                         sgd      : to use sklearns sgd)\n",
    "                         \n",
    "        '''\n",
    "        self.model = 0\n",
    "        self.algorithm = algorithm\n",
    "        self.hyperparameter = 0\n",
    "\n",
    "        self.train = train\n",
    "        self.test  = test\n",
    "\n",
    "        self.ytrain= ytrain\n",
    "        self.ytest = ytest\n",
    "\n",
    "        self.train_score = 0\n",
    "        self.test_score = 0\n",
    "        self.basedir    = basedir\n",
    "        \n",
    "        \n",
    "        \n",
    "    def assign(self):\n",
    "        if self.algorithm == 'logistic':\n",
    "            self.model = LogisticRegression(class_weight='balanced',random_state=45)\n",
    "            \n",
    "            self.hyperparameter = {'C':[1e-05, 0.0001, 0.001, 0.01, 0.1, 1, 10, 100, 1000],'penalty':['l1','l2']}\n",
    "            \n",
    "#         elif self.algorithm == 'naive':\n",
    "#             self.model = MultinomialNB()\n",
    "#             self.hyperparameter = {'alpha':[1e-05, 0.0001, 0.001, 0.01, 0.1, 1, 10, 100, 1000]}\n",
    "\n",
    "        elif self.algorithm == 'random_forest':\n",
    "            self.model = RandomForestClassifier()\n",
    "            self.hyperparameter = {'n_estimators':[1, 10, 50, 80, 100,200,400,500],\n",
    "                                   'max_depth':[2,3,5,7,9,11],\n",
    "                                   'min_samples_split':[2,3,5,7,9,11]}\n",
    "        elif self.algorithm == 'decision_tree':\n",
    "            self.model = RandomForestClassifier()\n",
    "            self.hyperparameter = {'max_depth':[2,3,5,7,9,11],\n",
    "                                   'min_samples_split':[2,3,5,7,9,11]}\n",
    "        elif self.algorithm == 'xgb':\n",
    "            self.model = XGBClassifier()\n",
    "            self.hyperparameter = { 'eta':[1e-05, 0.0001, 0.001, 0.01, 0.1],\n",
    "                                    'gamma':[1, 10, 30, 50, 80, 90, 100],\n",
    "                                    'max_depth':[2,3,5,7,9,11]\n",
    "                                   }\n",
    "\n",
    "        elif self.algorithm == 'sgd':\n",
    "            self.model = SGDClassifier(class_weight='balanced',random_state=45)\n",
    "            self.hyperparameter = {'alpha':[1e-05, 0.0001, 0.001, 0.01, 0.1, 1, 10, 100, 1000],\n",
    "                                   'loss':['hinge', 'log', 'modified_huber']}\n",
    "      \n",
    "        else:\n",
    "            return 'InValiedModel'\n",
    "\n",
    "  \n",
    "    def gridsearch(self,verbose=1):\n",
    "        '''\n",
    "            Applies gridsearch operation for hyperparameter tuning and stores best mode into self.model\n",
    "        '''\n",
    "\n",
    "        gridsearch = GridSearchCV(self.model,self.hyperparameter,scoring='accuracy',n_jobs=-1,verbose=verbose)\n",
    "        gridsearch.fit(self.train,self.ytrain)\n",
    "        self.model = gridsearch.best_estimator_\n",
    "\n",
    "    def test_data(self):\n",
    "            '''\n",
    "                Prints accuracy for train and test for  with best model\n",
    "            '''\n",
    "            self.model.fit(self.train,self.ytrain)\n",
    "\n",
    "            train_pred = self.model.predict(self.train)\n",
    "            test_pred   = self.model.predict(self.test)\n",
    "\n",
    "            #self.train_accuracy = accuracy_score(train_pred,self.ytrain)\n",
    "            #self.test_accuracy   = accuracy_score(test_pred,self.ytest)\n",
    "\n",
    "\n",
    "            #print('Train accuracy {} Test accuracy {}'.format(self.train_accuracy,self.test_accuracy))\n",
    "\n",
    "\n",
    "            \n",
    "    def plot(self,type_='cmat',save=True):\n",
    "            '''\n",
    "                Plots confusion matrix for train and test data\n",
    "            '''\n",
    "            if type_ == 'cmat':\n",
    "\n",
    "                cm_train=pd.DataFrame(confusion_matrix( self.ytrain, self.model.predict(self.train)),index=['No','Yes'],columns=['No','Yes'])\n",
    "                cm_test =pd.DataFrame(confusion_matrix( self.ytest, self.model.predict(self.test)),index=['No','Yes'],columns=['No','Yes'])\n",
    "\n",
    "                cm_train.index.name='Actual'\n",
    "                cm_train.columns.name ='Predicted'\n",
    "\n",
    "                cm_test.index.name='Actual'\n",
    "                cm_test.columns.name ='Predicted'\n",
    "\n",
    "                fig,ax = plt.subplots(ncols=2,figsize=(15,5))\n",
    "                ax[0]  = plt.subplot(1,2,1,xlabel='Predicted',ylabel='Actual')\n",
    "               \n",
    "                ax[1]  = plt.subplot(1,2,2,xlabel='Predicted',ylabel='Actual')\n",
    "                \n",
    "                ax[0].set_title('Train Data')\n",
    "               \n",
    "                ax[1].set_title('Test Data')\n",
    "\n",
    "\n",
    "                train_heatmap = sns.heatmap(cm_train,annot=True,fmt='d',ax=ax[0],cmap='GnBu')\n",
    "                test_heatmap = sns.heatmap(cm_test ,annot=True,fmt='d',ax=ax[1],cmap='GnBu')\n",
    "                \n",
    "                #plt.savefig(self.basedir+'images/plots/'+self.algorithm+'_c_mat.jpg')\n",
    "                plt.show()\n",
    "\n",
    "    def auc(self):\n",
    "        '''This function plots AUC plot by calculating TPR and FPR values and returns the log plrobabilities'''\n",
    "       \n",
    "        \n",
    "        model=self.model\n",
    "                \n",
    "        ytrain_pred=model.predict_proba(self.train)[:,1]\n",
    "        ytest_pred=model.predict_proba(self.test)[:,1]\n",
    "        \n",
    "        train_fpr,train_tpr,train_threshold=roc_curve(self.ytrain,ytrain_pred)\n",
    "        test_fpr,test_tpr,test_threshold=roc_curve(self.ytest,ytest_pred)\n",
    "        plt.figure(figsize=(15,7))\n",
    "        plt.plot(train_fpr,train_tpr,label='Train AUC :'+ (str(auc(train_fpr , train_tpr))))\n",
    "        plt.plot(test_fpr,test_tpr,label='Test AUC:'+str(auc(test_fpr, test_tpr)))\n",
    "        plt.xlabel('Hyperparameters',size=10)\n",
    "        plt.ylabel('AUC',size=10)\n",
    "        plt.title('Reciever Operating Characterstic Curve')\n",
    "        plt.legend(prop={'size':20})\n",
    "        plt.grid()\n",
    "        plt.show()\n",
    "      \n",
    "        self.plot()\n",
    "           \n",
    "    def tableit(self,vector,table=final_table):\n",
    "            \n",
    "            '''\n",
    "                Used to tabulize the train,test accuracy along with the model and vector(count,tfidf,both)\n",
    "                \n",
    "                vector : vector used in model(countvector/tfidfvector/both)\n",
    "            '''\n",
    "\n",
    "            table.add_row([self.algorithm,self.train_accuracy,self.test_accuracy])\n",
    "\n"
   ]
  },
  {
   "cell_type": "markdown",
   "metadata": {
    "colab_type": "text",
    "id": "9ZCFxRiISt_w"
   },
   "source": [
    "**Logistic Regression**"
   ]
  },
  {
   "cell_type": "code",
   "execution_count": 33,
   "metadata": {
    "colab": {
     "base_uri": "https://localhost:8080/",
     "height": 295
    },
    "colab_type": "code",
    "id": "3kZiAdO7Ssnk",
    "outputId": "419f607e-e089-4c1e-8ac8-f184d196a6c1"
   },
   "outputs": [
    {
     "name": "stdout",
     "output_type": "stream",
     "text": [
      "Fitting 5 folds for each of 18 candidates, totalling 90 fits\n"
     ]
    },
    {
     "name": "stderr",
     "output_type": "stream",
     "text": [
      "[Parallel(n_jobs=-1)]: Using backend LokyBackend with 2 concurrent workers.\n",
      "[Parallel(n_jobs=-1)]: Done   1 tasks      | elapsed:    1.3s\n",
      "[Parallel(n_jobs=-1)]: Done   4 tasks      | elapsed:    1.4s\n",
      "[Parallel(n_jobs=-1)]: Done   9 tasks      | elapsed:    1.8s\n",
      "[Parallel(n_jobs=-1)]: Done  14 tasks      | elapsed:    2.0s\n",
      "[Parallel(n_jobs=-1)]: Done  21 tasks      | elapsed:    2.5s\n",
      "[Parallel(n_jobs=-1)]: Batch computation too fast (0.1942s.) Setting batch_size=2.\n",
      "[Parallel(n_jobs=-1)]: Done  28 tasks      | elapsed:    3.0s\n",
      "[Parallel(n_jobs=-1)]: Done  46 tasks      | elapsed:    4.6s\n",
      "[Parallel(n_jobs=-1)]: Done  64 tasks      | elapsed:    7.5s\n",
      "[Parallel(n_jobs=-1)]: Done  86 tasks      | elapsed:   11.5s\n",
      "[Parallel(n_jobs=-1)]: Done  87 out of  90 | elapsed:   12.1s remaining:    0.4s\n",
      "[Parallel(n_jobs=-1)]: Done  90 out of  90 | elapsed:   12.5s finished\n"
     ]
    },
    {
     "name": "stdout",
     "output_type": "stream",
     "text": [
      "--------------------\n",
      "Testing  Data...\n"
     ]
    }
   ],
   "source": [
    "algo = 'logistic'\n",
    "logistic_model = ApplyModel(train = train_data_prep,test = test_data_prep,ytrain=train_labels,ytest=test_labels,algorithm=algo)\n",
    "logistic_model.assign()\n",
    "\n",
    "logistic_model.gridsearch(10)\n",
    "# time.sleep(0.2)\n",
    "print('----'*5)\n",
    "print('Testing  Data...')\n",
    "logistic_model.test_data()"
   ]
  },
  {
   "cell_type": "code",
   "execution_count": 34,
   "metadata": {
    "colab": {
     "base_uri": "https://localhost:8080/",
     "height": 791
    },
    "colab_type": "code",
    "id": "e9ejUb6RXAlX",
    "outputId": "54d21d88-f725-42a2-bc1a-a430937a9706"
   },
   "outputs": [
    {
     "data": {
      "image/png": "[encoded data removed]",
      "text/plain": [
       "<Figure size 1080x504 with 1 Axes>"
      ]
     },
     "metadata": {
      "needs_background": "light",
      "tags": []
     },
     "output_type": "display_data"
    },
    {
     "data": {
      "image/png": "[encoded data removed]",
      "text/plain": [
       "<Figure size 1080x360 with 4 Axes>"
      ]
     },
     "metadata": {
      "needs_background": "light",
      "tags": []
     },
     "output_type": "display_data"
    }
   ],
   "source": [
    "logistic_model.auc()"
   ]
  },
  {
   "cell_type": "code",
   "execution_count": 35,
   "metadata": {
    "colab": {
     "base_uri": "https://localhost:8080/",
     "height": 1000
    },
    "colab_type": "code",
    "id": "WYyzy-hXUSCF",
    "outputId": "118e27c3-8745-47a1-bee2-51f7840f9eef"
   },
   "outputs": [
    {
     "name": "stdout",
     "output_type": "stream",
     "text": [
      "Fitting 5 folds for each of 288 candidates, totalling 1440 fits\n"
     ]
    },
    {
     "name": "stderr",
     "output_type": "stream",
     "text": [
      "[Parallel(n_jobs=-1)]: Using backend LokyBackend with 2 concurrent workers.\n",
      "[Parallel(n_jobs=-1)]: Done   1 tasks      | elapsed:    0.1s\n",
      "[Parallel(n_jobs=-1)]: Batch computation too fast (0.1361s.) Setting batch_size=2.\n",
      "[Parallel(n_jobs=-1)]: Done   4 tasks      | elapsed:    0.3s\n",
      "[Parallel(n_jobs=-1)]: Done  14 tasks      | elapsed:    2.0s\n",
      "[Parallel(n_jobs=-1)]: Batch computation too slow (2.3103s.) Setting batch_size=1.\n",
      "[Parallel(n_jobs=-1)]: Done  24 tasks      | elapsed:    7.4s\n",
      "[Parallel(n_jobs=-1)]: Done  33 tasks      | elapsed:   20.4s\n",
      "[Parallel(n_jobs=-1)]: Done  40 tasks      | elapsed:   35.5s\n",
      "[Parallel(n_jobs=-1)]: Done  49 tasks      | elapsed:   36.6s\n",
      "[Parallel(n_jobs=-1)]: Done  58 tasks      | elapsed:   40.5s\n",
      "[Parallel(n_jobs=-1)]: Done  69 tasks      | elapsed:   48.8s\n",
      "[Parallel(n_jobs=-1)]: Done  80 tasks      | elapsed:  1.2min\n",
      "[Parallel(n_jobs=-1)]: Done  93 tasks      | elapsed:  1.3min\n",
      "[Parallel(n_jobs=-1)]: Done 106 tasks      | elapsed:  1.4min\n",
      "[Parallel(n_jobs=-1)]: Done 121 tasks      | elapsed:  1.8min\n",
      "[Parallel(n_jobs=-1)]: Done 136 tasks      | elapsed:  1.9min\n",
      "[Parallel(n_jobs=-1)]: Done 153 tasks      | elapsed:  2.2min\n",
      "[Parallel(n_jobs=-1)]: Done 170 tasks      | elapsed:  2.5min\n",
      "[Parallel(n_jobs=-1)]: Done 189 tasks      | elapsed:  2.7min\n",
      "[Parallel(n_jobs=-1)]: Done 208 tasks      | elapsed:  3.1min\n",
      "[Parallel(n_jobs=-1)]: Done 229 tasks      | elapsed:  3.3min\n",
      "[Parallel(n_jobs=-1)]: Done 250 tasks      | elapsed:  3.7min\n",
      "[Parallel(n_jobs=-1)]: Done 273 tasks      | elapsed:  4.1min\n",
      "[Parallel(n_jobs=-1)]: Done 296 tasks      | elapsed:  4.5min\n",
      "[Parallel(n_jobs=-1)]: Done 321 tasks      | elapsed:  5.1min\n",
      "[Parallel(n_jobs=-1)]: Done 346 tasks      | elapsed:  5.3min\n",
      "[Parallel(n_jobs=-1)]: Done 373 tasks      | elapsed:  5.9min\n",
      "[Parallel(n_jobs=-1)]: Done 400 tasks      | elapsed:  6.6min\n",
      "[Parallel(n_jobs=-1)]: Done 429 tasks      | elapsed:  6.8min\n",
      "[Parallel(n_jobs=-1)]: Done 458 tasks      | elapsed:  7.4min\n",
      "[Parallel(n_jobs=-1)]: Done 489 tasks      | elapsed:  8.0min\n",
      "[Parallel(n_jobs=-1)]: Done 520 tasks      | elapsed:  8.9min\n",
      "[Parallel(n_jobs=-1)]: Done 553 tasks      | elapsed:  9.5min\n",
      "[Parallel(n_jobs=-1)]: Done 586 tasks      | elapsed: 10.1min\n",
      "[Parallel(n_jobs=-1)]: Done 621 tasks      | elapsed: 10.9min\n",
      "[Parallel(n_jobs=-1)]: Done 656 tasks      | elapsed: 11.8min\n",
      "[Parallel(n_jobs=-1)]: Done 693 tasks      | elapsed: 12.7min\n",
      "[Parallel(n_jobs=-1)]: Done 730 tasks      | elapsed: 13.7min\n",
      "[Parallel(n_jobs=-1)]: Done 769 tasks      | elapsed: 14.8min\n",
      "[Parallel(n_jobs=-1)]: Done 808 tasks      | elapsed: 15.9min\n",
      "[Parallel(n_jobs=-1)]: Done 849 tasks      | elapsed: 17.0min\n",
      "[Parallel(n_jobs=-1)]: Done 890 tasks      | elapsed: 18.2min\n",
      "[Parallel(n_jobs=-1)]: Done 933 tasks      | elapsed: 19.3min\n",
      "[Parallel(n_jobs=-1)]: Done 976 tasks      | elapsed: 20.5min\n",
      "[Parallel(n_jobs=-1)]: Done 1021 tasks      | elapsed: 21.8min\n",
      "[Parallel(n_jobs=-1)]: Done 1066 tasks      | elapsed: 23.3min\n",
      "[Parallel(n_jobs=-1)]: Done 1113 tasks      | elapsed: 25.0min\n",
      "[Parallel(n_jobs=-1)]: Done 1160 tasks      | elapsed: 26.8min\n",
      "[Parallel(n_jobs=-1)]: Done 1209 tasks      | elapsed: 28.1min\n",
      "[Parallel(n_jobs=-1)]: Done 1258 tasks      | elapsed: 29.6min\n",
      "[Parallel(n_jobs=-1)]: Done 1309 tasks      | elapsed: 31.4min\n",
      "[Parallel(n_jobs=-1)]: Done 1360 tasks      | elapsed: 33.7min\n",
      "[Parallel(n_jobs=-1)]: Done 1413 tasks      | elapsed: 35.3min\n",
      "[Parallel(n_jobs=-1)]: Done 1440 out of 1440 | elapsed: 36.7min finished\n"
     ]
    },
    {
     "name": "stdout",
     "output_type": "stream",
     "text": [
      "--------------------\n",
      "Testing  Data...\n"
     ]
    }
   ],
   "source": [
    "algo = 'random_forest'\n",
    "rf_model = ApplyModel(train = train_data_prep,test = test_data_prep,ytrain=train_labels,ytest=test_labels,algorithm=algo)\n",
    "rf_model.assign()\n",
    "rf_model.gridsearch(10)\n",
    "# time.sleep(0.2)\n",
    "print('----'*5)\n",
    "print('Testing  Data...')\n",
    "rf_model.test_data()"
   ]
  },
  {
   "cell_type": "markdown",
   "metadata": {
    "colab_type": "text",
    "id": "hc40eDLdKVs3"
   },
   "source": [
    "**Feature Importance using Random Forest**"
   ]
  },
  {
   "cell_type": "code",
   "execution_count": 36,
   "metadata": {
    "colab": {
     "base_uri": "https://localhost:8080/",
     "height": 156
    },
    "colab_type": "code",
    "id": "8xyrvz-wKVs3",
    "outputId": "c08a32bc-eecd-4a6d-d6f6-de4f44bbf902"
   },
   "outputs": [
    {
     "data": {
      "text/plain": [
       "array([1.75188742e-01, 1.97649713e-01, 6.05113119e-02, 5.82561453e-02,\n",
       "       8.25419126e-02, 1.14467742e-03, 2.60449255e-04, 3.75085617e-04,\n",
       "       1.50985639e-03, 1.47508970e-04, 7.36604716e-03, 1.00572217e-03,\n",
       "       6.41244311e-03, 5.81362903e-07, 3.69408821e-05, 1.66087131e-01,\n",
       "       1.78134326e-01, 4.26040009e-03, 1.86433832e-03, 4.66349484e-03,\n",
       "       8.60435046e-03, 6.40788642e-03, 1.32716305e-03, 6.37998722e-05,\n",
       "       1.03033278e-02, 1.35840475e-02, 2.45785755e-04, 5.53977752e-03,\n",
       "       3.32218707e-03, 3.18484674e-03])"
      ]
     },
     "execution_count": 36,
     "metadata": {
      "tags": []
     },
     "output_type": "execute_result"
    }
   ],
   "source": [
    "importances = rf_model.model.feature_importances_\n",
    "#plt.bar([x for x in range(len(importances))], importances)\n",
    "importances"
   ]
  },
  {
   "cell_type": "code",
   "execution_count": 37,
   "metadata": {
    "colab": {
     "base_uri": "https://localhost:8080/",
     "height": 791
    },
    "colab_type": "code",
    "id": "Ko9O4UQwURh6",
    "outputId": "5bbc1ef0-747c-4996-a78c-ae81c3d266c6"
   },
   "outputs": [
    {
     "data": {
      "image/png": "[encoded data removed]",
      "text/plain": [
       "<Figure size 1080x504 with 1 Axes>"
      ]
     },
     "metadata": {
      "needs_background": "light",
      "tags": []
     },
     "output_type": "display_data"
    },
    {
     "data": {
      "image/png": "[encoded data removed]",
      "text/plain": [
       "<Figure size 1080x360 with 4 Axes>"
      ]
     },
     "metadata": {
      "needs_background": "light",
      "tags": []
     },
     "output_type": "display_data"
    }
   ],
   "source": [
    "rf_model.auc()"
   ]
  },
  {
   "cell_type": "code",
   "execution_count": 38,
   "metadata": {
    "colab": {
     "base_uri": "https://localhost:8080/",
     "height": 849
    },
    "colab_type": "code",
    "id": "_hhnpoGXwD8y",
    "outputId": "53fffd2b-0907-4a71-bd9f-8fb464d19631"
   },
   "outputs": [
    {
     "name": "stdout",
     "output_type": "stream",
     "text": [
      "Fitting 5 folds for each of 210 candidates, totalling 1050 fits\n"
     ]
    },
    {
     "name": "stderr",
     "output_type": "stream",
     "text": [
      "[Parallel(n_jobs=-1)]: Using backend LokyBackend with 2 concurrent workers.\n",
      "[Parallel(n_jobs=-1)]: Done   1 tasks      | elapsed:    3.0s\n",
      "[Parallel(n_jobs=-1)]: Done   4 tasks      | elapsed:    5.9s\n",
      "[Parallel(n_jobs=-1)]: Done   9 tasks      | elapsed:   16.2s\n",
      "[Parallel(n_jobs=-1)]: Done  14 tasks      | elapsed:   29.0s\n",
      "[Parallel(n_jobs=-1)]: Done  21 tasks      | elapsed:  1.0min\n",
      "[Parallel(n_jobs=-1)]: Done  28 tasks      | elapsed:  1.8min\n",
      "[Parallel(n_jobs=-1)]: Done  37 tasks      | elapsed:  2.1min\n",
      "[Parallel(n_jobs=-1)]: Done  46 tasks      | elapsed:  2.6min\n",
      "[Parallel(n_jobs=-1)]: Done  57 tasks      | elapsed:  3.6min\n",
      "[Parallel(n_jobs=-1)]: Done  68 tasks      | elapsed:  4.2min\n",
      "[Parallel(n_jobs=-1)]: Done  81 tasks      | elapsed:  5.0min\n",
      "[Parallel(n_jobs=-1)]: Done  94 tasks      | elapsed:  6.1min\n",
      "[Parallel(n_jobs=-1)]: Done 109 tasks      | elapsed:  6.8min\n",
      "[Parallel(n_jobs=-1)]: Done 124 tasks      | elapsed:  8.1min\n",
      "[Parallel(n_jobs=-1)]: Done 141 tasks      | elapsed:  9.1min\n",
      "[Parallel(n_jobs=-1)]: Done 158 tasks      | elapsed: 10.3min\n",
      "[Parallel(n_jobs=-1)]: Done 177 tasks      | elapsed: 11.8min\n",
      "[Parallel(n_jobs=-1)]: Done 196 tasks      | elapsed: 12.8min\n",
      "[Parallel(n_jobs=-1)]: Done 217 tasks      | elapsed: 14.4min\n",
      "[Parallel(n_jobs=-1)]: Done 238 tasks      | elapsed: 16.0min\n",
      "[Parallel(n_jobs=-1)]: Done 261 tasks      | elapsed: 17.2min\n",
      "[Parallel(n_jobs=-1)]: Done 284 tasks      | elapsed: 18.6min\n",
      "[Parallel(n_jobs=-1)]: Done 309 tasks      | elapsed: 20.4min\n",
      "[Parallel(n_jobs=-1)]: Done 334 tasks      | elapsed: 22.3min\n",
      "[Parallel(n_jobs=-1)]: Done 361 tasks      | elapsed: 24.3min\n",
      "[Parallel(n_jobs=-1)]: Done 388 tasks      | elapsed: 26.1min\n",
      "[Parallel(n_jobs=-1)]: Done 417 tasks      | elapsed: 28.1min\n",
      "[Parallel(n_jobs=-1)]: Done 446 tasks      | elapsed: 29.9min\n",
      "[Parallel(n_jobs=-1)]: Done 477 tasks      | elapsed: 32.0min\n",
      "[Parallel(n_jobs=-1)]: Done 508 tasks      | elapsed: 34.1min\n",
      "[Parallel(n_jobs=-1)]: Done 541 tasks      | elapsed: 36.5min\n",
      "[Parallel(n_jobs=-1)]: Done 574 tasks      | elapsed: 38.7min\n",
      "[Parallel(n_jobs=-1)]: Done 609 tasks      | elapsed: 40.8min\n",
      "[Parallel(n_jobs=-1)]: Done 644 tasks      | elapsed: 43.2min\n",
      "[Parallel(n_jobs=-1)]: Done 681 tasks      | elapsed: 45.7min\n",
      "[Parallel(n_jobs=-1)]: Done 718 tasks      | elapsed: 48.5min\n",
      "[Parallel(n_jobs=-1)]: Done 757 tasks      | elapsed: 50.9min\n",
      "[Parallel(n_jobs=-1)]: Done 796 tasks      | elapsed: 53.5min\n",
      "[Parallel(n_jobs=-1)]: Done 837 tasks      | elapsed: 56.6min\n",
      "[Parallel(n_jobs=-1)]: Done 878 tasks      | elapsed: 59.1min\n",
      "[Parallel(n_jobs=-1)]: Done 921 tasks      | elapsed: 61.9min\n",
      "[Parallel(n_jobs=-1)]: Done 964 tasks      | elapsed: 65.0min\n",
      "[Parallel(n_jobs=-1)]: Done 1009 tasks      | elapsed: 67.9min\n",
      "[Parallel(n_jobs=-1)]: Done 1050 out of 1050 | elapsed: 71.2min finished\n"
     ]
    },
    {
     "name": "stdout",
     "output_type": "stream",
     "text": [
      "--------------------\n",
      "Testing  Data...\n"
     ]
    }
   ],
   "source": [
    "algo = 'xgb'\n",
    "xgb_model = ApplyModel(train = train_data_prep,test = test_data_prep,ytrain=train_labels,ytest=test_labels,algorithm=algo)\n",
    "xgb_model.assign()\n",
    "xgb_model.gridsearch(10)\n",
    "# time.sleep(0.2)\n",
    "print('----'*5)\n",
    "print('Testing  Data...')\n",
    "xgb_model.test_data()"
   ]
  },
  {
   "cell_type": "code",
   "execution_count": 39,
   "metadata": {
    "colab": {
     "base_uri": "https://localhost:8080/",
     "height": 791
    },
    "colab_type": "code",
    "id": "HypxOl9-wD5Q",
    "outputId": "9eebe751-f66f-4c59-ea33-ed9b4da26cba"
   },
   "outputs": [
    {
     "data": {
      "image/png": "[encoded data removed]",
      "text/plain": [
       "<Figure size 1080x504 with 1 Axes>"
      ]
     },
     "metadata": {
      "needs_background": "light",
      "tags": []
     },
     "output_type": "display_data"
    },
    {
     "data": {
      "image/png": "[encoded data removed]",
      "text/plain": [
       "<Figure size 1080x360 with 4 Axes>"
      ]
     },
     "metadata": {
      "needs_background": "light",
      "tags": []
     },
     "output_type": "display_data"
    }
   ],
   "source": [
    "xgb_model.auc()"
   ]
  },
  {
   "cell_type": "markdown",
   "metadata": {
    "colab_type": "text",
    "id": "ZLeZCcfOKVtC"
   },
   "source": [
    "**Out of approved loans, Credit limit can be decided on basis of inquiry_purpose_code, asset_class_cd, portfolio_type**"
   ]
  },
  {
   "cell_type": "code",
   "execution_count": 0,
   "metadata": {
    "colab": {},
    "colab_type": "code",
    "id": "39gp3OcCKVtC"
   },
   "outputs": [],
   "source": [
    "# Merge NaN, -1, 01 with N for default account\n",
    "\n",
    "complete_data['asset_class_cd']=complete_data['asset_class_cd'].fillna('N')\n",
    "complete_data['asset_class_cd']=complete_data['asset_class_cd'].replace(to_replace=['-1','01','?'],value='N')\n",
    "\n",
    "complete_data['inquiry_purpose_code']=complete_data['inquiry_purpose_code'].map({7:'unsecured', 1:'secured',2:'secured', 4:'secured',\n",
    "    5:'secured', 3:'unsecured',  6:'secured', 8:'unsecured', 9:'unsecured',10:'secured',11:'unsecured',\n",
    "    12:'unsecured', 13:'unsecured', 14:'secured',15:'secured',16:'secured', 17:'unsecured', 18:'secured', 19:'unsecured', 99:'unsecured'})\n",
    "\n"
   ]
  },
  {
   "cell_type": "code",
   "execution_count": 0,
   "metadata": {
    "colab": {},
    "colab_type": "code",
    "id": "POHNRz-fKVtG"
   },
   "outputs": [],
   "source": [
    "def credit_limit(df):\n",
    "    if df.loc[(df['inquiry_purpose_code']=='secured') & (df['asset_class_cd'].isin(['N', 'S'])) & \n",
    "              (df['portfolio_type'].isin(['I','R']))]:\n",
    "        cred_limit = '8000$'\n",
    "        \n",
    "    elif df.loc[(df['inquiry_purpose_code']=='secured') & (df['asset_class_cd'].isin(['N', 'S']))]:\n",
    "        cred_limit = '7000$'\n",
    "        \n",
    "    elif df.loc[df['asset_code'].isin([2, 9, 4])]:\n",
    "        cred_limit = '3000$'\n",
    "  \n",
    "    elif df.loc[df['asset_class_cd'].isin(['B', 'M'])]:\n",
    "        cred_limit = '2000$'\n",
    "       \n",
    "    else:\n",
    "        cred_limit = '1000$'\n",
    "    return cred_limit"
   ]
  },
  {
   "cell_type": "code",
   "execution_count": 0,
   "metadata": {
    "colab": {},
    "colab_type": "code",
    "id": "onbGJF0XKVtJ"
   },
   "outputs": [],
   "source": [
    "complete_data['credit_score'] = complete_data.apply(credit_limit, axis=1)"
   ]
  },
  {
   "cell_type": "markdown",
   "metadata": {
    "colab_type": "text",
    "id": "2Ch4HUISKVtM"
   },
   "source": [
    "**Instead of directly taking credit limit, can generate credit score and use credit score as a feature for approval or rejection of loans.**\n"
   ]
  }
 ],
 "metadata": {
  "accelerator": "TPU",
  "colab": {
   "collapsed_sections": [],
   "name": "Simpl Task Solution.ipynb",
   "provenance": []
  },
  "kernelspec": {
   "display_name": "Python 3",
   "language": "python",
   "name": "python3"
  },
  "language_info": {
   "codemirror_mode": {
    "name": "ipython",
    "version": 3
   },
   "file_extension": ".py",
   "mimetype": "text/x-python",
   "name": "python",
   "nbconvert_exporter": "python",
   "pygments_lexer": "ipython3",
   "version": "3.6.4"
  }
 },
 "nbformat": 4,
 "nbformat_minor": 1
}
